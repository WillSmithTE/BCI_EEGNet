{
 "cells": [
  {
   "cell_type": "code",
   "execution_count": 1,
   "metadata": {
    "collapsed": true
   },
   "outputs": [],
   "source": [
    "import numpy as np\n",
    "from sklearn.metrics import roc_auc_score, precision_score, recall_score, accuracy_score\n",
    "import torch\n",
    "import torch.nn as nn\n",
    "import torch.optim as optim\n",
    "from torch.autograd import Variable\n",
    "import torch.nn.functional as F\n",
    "import torch.optim as optim\n",
    "import scipy"
   ]
  },
  {
   "cell_type": "code",
   "execution_count": 2,
   "metadata": {
    "collapsed": true
   },
   "outputs": [],
   "source": [
    "import scipy.io\n",
    "import matplotlib.pyplot as plt\n",
    "import random"
   ]
  },
  {
   "cell_type": "markdown",
   "metadata": {},
   "source": [
    "<p>Here's the description from the paper</p>\n",
    "<img src=\"EEGNet.png\" style=\"width: 700px; float:left;\">"
   ]
  },
  {
   "cell_type": "code",
   "execution_count": 3,
   "metadata": {},
   "outputs": [
    {
     "name": "stdout",
     "output_type": "stream",
     "text": [
      "[['A', 'B', 'C', 'D', 'E', 'F'], ['G', 'H', 'I', 'J', 'K', 'L'], ['M', 'N', 'O', 'P', 'Q', 'R'], ['S', 'T', 'U', 'V', 'W', 'X'], ['Y', 'Z', '1', '2', '3', '4'], ['5', '6', '7', '8', '9', '_']]\n",
      "6\n"
     ]
    }
   ],
   "source": [
    "## the following data is filtered\n",
    "TRAIN_A = 'data/BCI_Comp_III_Wads_2004/Subject_A_Train1.mat'\n",
    "TRAIN_B = 'data/BCI_Comp_III_Wads_2004/Subject_B_Train1.mat'\n",
    "\n",
    "\n",
    "#TRUE_LABELS_A = 'WQXPLZCOMRKO97YFZDEZ1DPI9NNVGRQDJCUVRMEUOOOJD2UFYPOO6J7LDGYEGOA5VHNEHBTXOO1TDOILUEE5BFAEEXAW_K4R3MRU'\n",
    "#TRUE_LABELS_B = 'MERMIROOMUHJPXJOHUVLEORZP3GLOO7AUFDKEFTWEOOALZOP9ROCGZET1Y19EWX65QUYU7NAK_4YCJDVDNGQXODBEV2B5EFDIDNR'\n",
    "\n",
    "MATRIX = ['abcdef',\n",
    "          'ghijkl',\n",
    "          'mnopqr',\n",
    "          'stuvwx',\n",
    "          'yz1234',\n",
    "          '56789_']\n",
    "\n",
    "screen=[['A','B','C','D','E','F'],\n",
    "            ['G','H','I','J','K','L'],\n",
    "            ['M','N','O','P','Q','R'],\n",
    "            ['S','T','U','V','W','X'],\n",
    "            ['Y','Z','1','2','3','4'],\n",
    "            ['5','6','7','8','9','_']]\n",
    "\n",
    "print (screen)\n",
    "print (len(screen))"
   ]
  },
  {
   "cell_type": "code",
   "execution_count": 4,
   "metadata": {
    "collapsed": true
   },
   "outputs": [],
   "source": [
    "def load_dataset(SUBJECT,flag):\n",
    "    \n",
    "    data=scipy.io.loadmat(SUBJECT)\n",
    "    \n",
    "    #print ('Subject A dataa',data)\n",
    "    Signal=np.float32(data['Signal'])\n",
    "    #print ('signal',Signal, Signal.shape)\n",
    "\n",
    "    Flashing=np.float32(data['Flashing'])\n",
    "    #print ('flashing',Flashing, Flashing.shape)\n",
    "\n",
    "    StimulusCode=np.float32(data['StimulusCode'])\n",
    "    #print ('Stimulus COde',StimulusCode,StimulusCode.shape)\n",
    "    if flag==0:\n",
    "        StimulusType=np.float32(data['StimulusType'])\n",
    "        #print ('Stimulus type',StimulusType,StimulusType.shape)\n",
    "\n",
    "        Target=data['TargetChar']# array([ 'EAEVQTDOJG8RBRGONCEDHCTUIDBPUHMEM6OUXOCFOUKWA4VJEFRZROLHYNQDW_EKTLBWXEPOUIKZERYOOTHQI'],4\n",
    "        #print ('Target char for subjectA',Target)\n",
    "\n",
    "        return Signal,Flashing,StimulusCode,StimulusType,Target\n",
    "\n",
    "    else:\n",
    "         return Signal,Flashing,StimulusCode\n"
   ]
  },
  {
   "cell_type": "code",
   "execution_count": 5,
   "metadata": {},
   "outputs": [
    {
     "name": "stdout",
     "output_type": "stream",
     "text": [
      "Signal A shape (85, 7794, 64)\n"
     ]
    }
   ],
   "source": [
    "Signal_A,Flashing_A,StimulusCode_A,StimulusType_A,Target_A=load_dataset(TRAIN_A,0)\n",
    "print ('Signal A shape',Signal_A.shape)\n",
    "train_char_size=Signal_A.shape[0]\n",
    "\n",
    "#############################################################################################\n",
    "Signal_B,Flashing_B,StimulusCode_B,StimulusType_B,Target_B=load_dataset(TRAIN_B,0)\n"
   ]
  },
  {
   "cell_type": "code",
   "execution_count": 6,
   "metadata": {},
   "outputs": [
    {
     "name": "stdout",
     "output_type": "stream",
     "text": [
      "24.0\n"
     ]
    }
   ],
   "source": [
    "### DEFINE P300 WIndow size\n",
    "window=48  # take a window to get no of datapoints corresponding to 600 ms after onset of stimuli \n",
    "T=int(3*window)\n",
    "print(window/2.0)"
   ]
  },
  {
   "cell_type": "code",
   "execution_count": 7,
   "metadata": {
    "collapsed": true
   },
   "outputs": [],
   "source": [
    "#Split training into hold and validation\n",
    "def create_subset(NtrainIm,NtrainL):\n",
    "\n",
    "    #Creating a hold out set and remaining set out of the new training set..\n",
    "    NtrainIm_hold = []\n",
    "    NtrainL_hold = []\n",
    "    NtrainIm_rem = []\n",
    "    NtrainL_rem = []\n",
    "    #print(int(len(NtrainIm)/10))\n",
    "    Random = random.sample(range(0, NtrainIm.shape[0]), np.int(0.12*NtrainIm.shape[0]))\n",
    "    for k in range(0,NtrainIm.shape[0]):\n",
    "        if k in Random:\n",
    "            NtrainIm_hold.append(NtrainIm[k,:])\n",
    "            NtrainL_hold.append(NtrainL[k])\n",
    "        else:\n",
    "            NtrainIm_rem.append(NtrainIm[k,:])\n",
    "            NtrainL_rem.append(NtrainL[k])\n",
    "    NtrainIm_hold = np.array(NtrainIm_hold)\n",
    "    NtrainL_hold = np.array(NtrainL_hold)\n",
    "    NtrainIm_rem = np.array(NtrainIm_rem)\n",
    "    NtrainL_rem = np.array(NtrainL_rem)\n",
    "    \n",
    "    return np.array(NtrainIm_rem),np.array(NtrainIm_hold),np.array(NtrainL_rem),np.array(NtrainL_hold)\n",
    "    \n",
    "\n",
    "def format_data(Signal,Flashing,StimulusCode,StimulusType,Target):\n",
    "    \n",
    "    char_size=Signal.shape[0]\n",
    "    responses=np.zeros([char_size,12,15,T,64])\n",
    "    \n",
    "    for epoch in range(0,Signal.shape[0]):\n",
    "        count=1;\n",
    "        rowcolcnt=np.zeros(12)\n",
    "        for n in range(1,Signal.shape[1]):\n",
    "            # detect location of sample immediately after the stimuli\n",
    "            if Flashing[epoch,n]==0 and Flashing[epoch,n-1]==1:\n",
    "                rowcol=int(StimulusCode[epoch,n-1])-1\n",
    "                #print (Signal[epoch,n:n+window,:].shape)\n",
    "               # print (rowcolcnt[int(rowcol)])\n",
    "                responses[epoch,int(rowcol),int(rowcolcnt[int(rowcol)]),:,:]=Signal[epoch,n-int(window/2):n+ int(2.5*window),:]\n",
    "                rowcolcnt[rowcol]=rowcolcnt[rowcol]+1\n",
    "                #print (rowcolcnt)\n",
    "        #print (epoch)\n",
    "    print ('Response for all characters',responses.shape)\n",
    "\n",
    "    #####################################################################################################################\n",
    "    ### Taking average over 15 instances of the 12 stimuli, comment to check performance and increase the dataset size- TO DO\n",
    "    trainset=np.mean(responses, axis=2)\n",
    "    print ('trainset',trainset.shape)\n",
    "    \n",
    "    #####################################################################################################################\n",
    "    #target_ohe=np.zeros([len(Target[0]),36])\n",
    "    stimulus_indices=[]\n",
    "    for n_char in range(0,len(Target[0])):  #character epochs\n",
    "\n",
    "        #print (Target[0][n_char])\n",
    "        #vv=np.where(screen==str(Target[0][n_char]))\n",
    "        #print (vv)\n",
    "        #[row,col]\n",
    "        for row in range(0,6):\n",
    "            for col in range(0,6):\n",
    "                #print (screen[row][col])\n",
    "                if (Target[0][n_char]) is (screen[row][col]):\n",
    "                    ind=[row+7,col+1]\n",
    "                    stimulus_indices.append(ind)\n",
    "                    #print (ind)\n",
    "    #print (len(stimulus_indices))\n",
    "    print ('Splitting P300 and non-P300 dataset...')\n",
    "    # iterate over the 2nd dimension of trainset:trainset (train_char_size, 12, 42, 64) and split as train_char_size*2*42*64 and train_char_size*10*42*64\n",
    "    \n",
    "    P300_dataset=np.zeros([train_char_size,2,T,64])\n",
    "    non_P300_dataset=np.zeros([train_char_size,10,T,64])\n",
    "\n",
    "    for char_epoch in range(0,trainset.shape[0]):\n",
    "        # choose the i,j out of the 2nd dimension of trainset where i,j comes from stimulus_indices[char_epoch]\n",
    "        ind_1=stimulus_indices[char_epoch][0]\n",
    "        ind_2=stimulus_indices[char_epoch][1]\n",
    "        #print (ind_1,ind_2)\n",
    "        l=0\n",
    "        for index in range(0,12):\n",
    "            if index==ind_1-1 or index==ind_2-1 :\n",
    "                P300_dataset[char_epoch,0,:,:]=trainset[char_epoch,ind_1-1,:,:]\n",
    "                P300_dataset[char_epoch,1,:,:]=trainset[char_epoch,ind_2-1,:,:]\n",
    "\n",
    "\n",
    "            else:\n",
    "                #print ('here')\n",
    "                #print (index)\n",
    "                non_P300_dataset[char_epoch,l,:,:]=trainset[char_epoch,index,:,:]\n",
    "               # targets_A[char_epoch,index]=0\n",
    "\n",
    "                l=l+1\n",
    "\n",
    "    #print (np.all(P300_dataset[0,0,:,:])==np.all(trainset[0,5,:,:]))\n",
    "    print (P300_dataset.shape)\n",
    "    print (non_P300_dataset.shape)\n",
    "    #85, 2, 128, 64)\n",
    "    #(85, 10, 128, 64)\n",
    "    '''\n",
    "    for p in range(0,2):\n",
    "        print ('next P300')\n",
    "        for n_p in range(0,10):\n",
    "            plt.figure()\n",
    "            #plt.subplot(121)\n",
    "            plt.plot(P300_dataset[0,p,:,5].T)\n",
    "            #plt.figure()\n",
    "            #plt.subplot(122)\n",
    "            plt.plot(non_P300_dataset[0,n_p,:,5].T)\n",
    "            plt.show()  \n",
    "    '''\n",
    "    return P300_dataset,non_P300_dataset\n",
    "\n",
    "##\n"
   ]
  },
  {
   "cell_type": "code",
   "execution_count": 8,
   "metadata": {},
   "outputs": [
    {
     "name": "stdout",
     "output_type": "stream",
     "text": [
      "For subject A\n",
      "Response for all characters (85, 12, 15, 144, 64)\n",
      "trainset (85, 12, 144, 64)\n",
      "Splitting P300 and non-P300 dataset...\n",
      "(85, 2, 144, 64)\n",
      "(85, 10, 144, 64)\n",
      "-----------------------------------------------------------------------------------------------------------\n",
      "Training set of P300 samples\n",
      "(150, 144, 64) (150, 1)\n",
      "\n",
      "Validation set of P300 samples\n",
      "(20, 144, 64) (20, 1)\n",
      "\n",
      "Training set of non-P300 samples\n",
      "(748, 144, 64) (748, 1)\n",
      "\n",
      "Validation set of non- P300 samples\n",
      "(102, 144, 64) (102, 1)\n",
      "-----------------------------------------------------------------------------------------------------------\n",
      "-----------------------------------------------------------------------------------------------------------\n"
     ]
    }
   ],
   "source": [
    "## TO DO :\n",
    "### REPEAT CODE IN THIS CELL FOR TRAINING SUBJECT B, ignore variables named as A for now\n",
    "\n",
    "# this for loop is jsut for printing, either make a function or copy paste to get B data\n",
    "\n",
    "\n",
    "subject = '1'#raw_input('Enter subject you want to train(A: 0 or B:1 ):  ')    \n",
    "if subject=='1':\n",
    "    print ('For subject A')\n",
    "    P300_dataset_,non_P300_dataset_=format_data(Signal_A,Flashing_A,StimulusCode_A,StimulusType_A,Target_A)\n",
    "else:\n",
    "    print ('For subject B')\n",
    "    P300_dataset_,non_P300_dataset_=format_data(Signal_B,Flashing_B,StimulusCode_B,StimulusType_B,Target_B)\n",
    "\n",
    "\n",
    "    \n",
    "targets_=np.zeros([train_char_size*15,12])\n",
    "targets_[:,0:2]=1 ; targets_[:,2:12]=0\n",
    "\n",
    "\n",
    "## Create training and validation subset\n",
    "P300_train_,P300_hold_, P300_train_label_, P300_hold_label_=create_subset(np.reshape(P300_dataset_,[train_char_size*2,T,64]),np.reshape(targets_[:,0:2],[train_char_size*2*15,1]))\n",
    "\n",
    "non_P300_train_,non_P300_hold_, non_P300_train_label_, non_P300_hold_label_=create_subset(np.reshape(non_P300_dataset_,[train_char_size*10,T,64]),np.reshape(targets_[:,2:12],[train_char_size*10*15,1]))\n",
    "print('-----------------------------------------------------------------------------------------------------------')\n",
    "\n",
    "print ('Training set of P300 samples')\n",
    "print (P300_train_.shape,P300_train_label_.shape)   \n",
    "\n",
    "print ('\\nValidation set of P300 samples')\n",
    "print (P300_hold_.shape,P300_hold_label_.shape)   \n",
    "\n",
    "print ('\\nTraining set of non-P300 samples')\n",
    "print (non_P300_train_.shape,non_P300_train_label_.shape)  \n",
    "\n",
    "print ('\\nValidation set of non- P300 samples')\n",
    "print (non_P300_hold_.shape,non_P300_hold_label_.shape) \n",
    "\n",
    "print('-----------------------------------------------------------------------------------------------------------')\n",
    "print('-----------------------------------------------------------------------------------------------------------')\n",
    "\n"
   ]
  },
  {
   "cell_type": "code",
   "execution_count": null,
   "metadata": {
    "collapsed": true
   },
   "outputs": [],
   "source": []
  },
  {
   "cell_type": "code",
   "execution_count": null,
   "metadata": {
    "collapsed": true
   },
   "outputs": [],
   "source": []
  },
  {
   "cell_type": "code",
   "execution_count": 9,
   "metadata": {},
   "outputs": [
    {
     "name": "stdout",
     "output_type": "stream",
     "text": [
      "0 150 0 20\n",
      "-------------------------HOLD AND TRAIN DATASET_CNN READY----------------------------------------------\n",
      "(40, 144, 64) (40, 1)\n",
      "(300, 144, 64) (300, 1)\n",
      "--------------------------------------------------------------------------------------------------------\n",
      "150 300 20 40\n",
      "-------------------------HOLD AND TRAIN DATASET_CNN READY----------------------------------------------\n",
      "(40, 144, 64) (40, 1)\n",
      "(300, 144, 64) (300, 1)\n",
      "--------------------------------------------------------------------------------------------------------\n",
      "300 450 40 60\n",
      "-------------------------HOLD AND TRAIN DATASET_CNN READY----------------------------------------------\n",
      "(40, 144, 64) (40, 1)\n",
      "(300, 144, 64) (300, 1)\n",
      "--------------------------------------------------------------------------------------------------------\n",
      "450 600 60 80\n",
      "-------------------------HOLD AND TRAIN DATASET_CNN READY----------------------------------------------\n",
      "(40, 144, 64) (40, 1)\n",
      "(300, 144, 64) (300, 1)\n",
      "--------------------------------------------------------------------------------------------------------\n",
      "600 748 80 102\n",
      "-------------------------HOLD AND TRAIN DATASET_CNN READY----------------------------------------------\n",
      "(42, 144, 64) (42, 1)\n",
      "(298, 144, 64) (298, 1)\n",
      "--------------------------------------------------------------------------------------------------------\n"
     ]
    }
   ],
   "source": [
    "def shuffle(trainIm_rem,trainL_rem): \n",
    "    \n",
    "    \n",
    "    NtrainIm_hold = []\n",
    "    NtrainL_hold = []\n",
    "  \n",
    "    R = random.sample(range(0, trainIm_rem.shape[0]),trainIm_rem.shape[0])\n",
    "\n",
    "    for k in R:\n",
    "        #print (k)\n",
    "        NtrainIm_hold.append(trainIm_rem[k,:,:])\n",
    "        NtrainL_hold.append(trainL_rem[k,:])\n",
    "    \n",
    "    return np.array(NtrainIm_hold),np.array(NtrainL_hold)\n",
    "\n",
    "# AGAIN IGNORE THE NAMING CONVENTION WHICH IS BY DEFAULT A\n",
    "def choose_subsection_non_P300(a,b,c,d,P300_train,non_P300_train,P300_hold,non_P300_hold ):\n",
    "        \n",
    "        print (a,b,c,d)\n",
    "        t1 = 2 * P300_train.shape[0]  # + non_P300_train_A.shape[0] #909\n",
    "       \n",
    "        t2 = P300_train.shape[0] #152\n",
    "        \n",
    "        if b == non_P300_train.shape[0] :\n",
    "            t1=t1-2\n",
    "            \n",
    "        dataset_A_train=np.zeros([t1,T,64])\n",
    "        dataset_A_train[0:t2,:,:]=P300_train\n",
    "       \n",
    "        dataset_A_train[t2:t1,:,:]=non_P300_train[a:b,:,:]\n",
    "\n",
    "        targets_A_train=np.zeros([t1,1])\n",
    "        targets_A_train[0:t2,:]=1\n",
    "\n",
    "        h1 = 2 * P300_hold.shape[0] #+ non_P300_hold_label_A.shape[0] #111\n",
    "        h2 = P300_hold.shape[0] #18\n",
    "             \n",
    "        if d == non_P300_hold.shape[0] :\n",
    "            h1=h1 + 2\n",
    "       \n",
    "            \n",
    "        dataset_A_hold=np.zeros([h1,T,64])\n",
    "        dataset_A_hold[0:h2,:,:]=P300_hold\n",
    "        \n",
    "        dataset_A_hold[h2:h1:,:]=non_P300_hold[c:d,:,:]\n",
    "        targets_A_hold=np.zeros([h1,1])\n",
    "        targets_A_hold[0:h2,:]=1\n",
    "        \n",
    "        \n",
    "        #print(targets_A_hold.shape)\n",
    "\n",
    "        ### SHUFFLE ABOVE DATASET and LABELS\n",
    "        print ('-------------------------HOLD AND TRAIN DATASET_CNN READY----------------------------------------------')\n",
    "        dataset_A_hold,targets_A_hold=shuffle(dataset_A_hold,targets_A_hold)\n",
    "        print (dataset_A_hold.shape,targets_A_hold.shape)\n",
    "\n",
    "        dataset_A_train,targets_A_train=shuffle(dataset_A_train,targets_A_train)\n",
    "        print (dataset_A_train.shape,targets_A_train.shape)\n",
    "        print ('--------------------------------------------------------------------------------------------------------')\n",
    "        ################################\n",
    "\n",
    "        return dataset_A_train,targets_A_train,dataset_A_hold,targets_A_hold \n",
    "    \n",
    "def create_balanced_dataset(P300_train_A,non_P300_train_A,P300_hold_A,non_P300_hold_A):\n",
    "\n",
    "    #######################################################\n",
    "    #Combine the dataset:\n",
    "    # Part 1: \n",
    "    a=0;b=int(np.ceil(non_P300_train_A.shape[0]/5));    c=0;d=int(non_P300_hold_A.shape[0]/5)\n",
    "    dataset_A_train_1,targets_A_train_1,dataset_A_hold_1,targets_A_hold_1 = choose_subsection_non_P300(a,b,c,d,P300_train_A,non_P300_train_A,P300_hold_A,non_P300_hold_A)\n",
    "     \n",
    "    # Part 2: \n",
    "    a=int(np.ceil(non_P300_train_A.shape[0]/5));b=2 *int(np.ceil(non_P300_train_A.shape[0]/5))\n",
    "    c=int(non_P300_hold_A.shape[0]/5); d= 2* int(non_P300_hold_A.shape[0]/5)\n",
    "    dataset_A_train_2,targets_A_train_2,dataset_A_hold_2,targets_A_hold_2 = choose_subsection_non_P300(a,b,c,d,P300_train_A,non_P300_train_A,P300_hold_A,non_P300_hold_A)\n",
    "  \n",
    "    # Part 3: \n",
    "    a=2 * int(np.ceil(non_P300_train_A.shape[0]/5));b=3 *int(np.ceil(non_P300_train_A.shape[0]/5))\n",
    "    c=2 * int(non_P300_hold_A.shape[0]/5); d= 3* int(non_P300_hold_A.shape[0]/5)\n",
    "    dataset_A_train_3,targets_A_train_3,dataset_A_hold_3,targets_A_hold_3 = choose_subsection_non_P300(a,b,c,d,P300_train_A,non_P300_train_A,P300_hold_A,non_P300_hold_A)\n",
    "  \n",
    "    # Part 4: \n",
    "    a=3 * int(np.ceil(non_P300_train_A.shape[0]/5));b=4 *int(np.ceil(non_P300_train_A.shape[0]/5))\n",
    "    c=3 * int(non_P300_hold_A.shape[0]/5); d= 4* int(non_P300_hold_A.shape[0]/5)\n",
    "    dataset_A_train_4,targets_A_train_4,dataset_A_hold_4,targets_A_hold_4 = choose_subsection_non_P300(a,b,c,d,P300_train_A,non_P300_train_A,P300_hold_A,non_P300_hold_A)\n",
    "  \n",
    "    # Part 5: \n",
    "    a=4 * int(np.ceil(non_P300_train_A.shape[0]/5));b=5 *int(np.ceil(non_P300_train_A.shape[0]/5)) - 2\n",
    "    c=4 * int(non_P300_hold_A.shape[0]/5); d= 5* int(non_P300_hold_A.shape[0]/5) +2 \n",
    "    dataset_A_train_5,targets_A_train_5,dataset_A_hold_5,targets_A_hold_5 = choose_subsection_non_P300(a,b,c,d,P300_train_A,non_P300_train_A,P300_hold_A,non_P300_hold_A)\n",
    "  \n",
    "    return dataset_A_train_1,targets_A_train_1,dataset_A_hold_1,targets_A_hold_1,dataset_A_train_2,targets_A_train_2,dataset_A_hold_2,targets_A_hold_2 ,dataset_A_train_3,targets_A_train_3,dataset_A_hold_3,targets_A_hold_3,dataset_A_train_4,targets_A_train_4,dataset_A_hold_4,targets_A_hold_4,dataset_A_train_5,targets_A_train_5,dataset_A_hold_5,targets_A_hold_5\n",
    "    \n",
    "\n",
    "dataset_A_train_1,targets_A_train_1,dataset_A_hold_1,targets_A_hold_1,dataset_A_train_2,targets_A_train_2,dataset_A_hold_2,targets_A_hold_2,dataset_A_train_3,targets_A_train_3,dataset_A_hold_3,targets_A_hold_3,dataset_A_train_4,targets_A_train_4,dataset_A_hold_4,targets_A_hold_4,dataset_A_train_5,targets_A_train_5,dataset_A_hold_5,targets_A_hold_5 = create_balanced_dataset(P300_train_,non_P300_train_,P300_hold_,non_P300_hold_)\n",
    "\n",
    "#dataset_B_train,targets_B_train,dataset_B_hold,targets_B_hold; use if subject B is used to calculate P300_train_ etc.  \n",
    "    \n"
   ]
  },
  {
   "cell_type": "code",
   "execution_count": null,
   "metadata": {
    "collapsed": true
   },
   "outputs": [],
   "source": []
  },
  {
   "cell_type": "code",
   "execution_count": null,
   "metadata": {
    "collapsed": true
   },
   "outputs": [],
   "source": []
  },
  {
   "cell_type": "code",
   "execution_count": 10,
   "metadata": {
    "collapsed": true
   },
   "outputs": [],
   "source": [
    "class EEGNet(nn.Module):\n",
    "    def __init__(self):\n",
    "        super(EEGNet, self).__init__()\n",
    "        self.T = 120\n",
    "        \n",
    "        # Layer 1\n",
    "        self.conv1 = nn.Conv2d(1, 16, (1,64), padding = 0)\n",
    "        self.batchnorm1 = nn.BatchNorm2d(16, False)\n",
    "        \n",
    "        # Layer 2\n",
    "        self.padding1 = nn.ZeroPad2d((16, 17, 0, 1))\n",
    "        #self.conv2 = nn.Conv2d(1, 4, (2, 32))\n",
    "        self.conv2 = nn.Conv2d(1, 4, (8, 8))\n",
    "        self.batchnorm2 = nn.BatchNorm2d(4, False)\n",
    "        self.pooling2 = nn.MaxPool2d(2, 4)\n",
    "        \n",
    "        # Layer 3\n",
    "        self.padding2 = nn.ZeroPad2d((2, 1, 4, 3))\n",
    "        self.conv3 = nn.Conv2d(4, 4, (8, 4))\n",
    "        self.batchnorm3 = nn.BatchNorm2d(4, False)\n",
    "        self.pooling3 = nn.MaxPool2d((2, 4))\n",
    "        \n",
    "        # FC Layer\n",
    "        # NOTE: This dimension will depend on the number of timestamps per sample in your data.\n",
    "        # I have 144 timepoints. \n",
    "        #4, 2, 487\n",
    "        self.fc1 = nn.Linear(4*1*10, 1) #4,1,10\n",
    "        \n",
    "\n",
    "    def forward(self, x):\n",
    "        # Layer 1\n",
    "      #  x = x.double()\n",
    "        x = F.elu(self.conv1(x))\n",
    "        x = self.batchnorm1(x)\n",
    "        x = F.dropout(x, 0.25)\n",
    "        x = x.permute(0, 3, 1, 2)\n",
    "        \n",
    "        # Layer 2\n",
    "        x = self.padding1(x)\n",
    "        x = F.elu(self.conv2(x))\n",
    "        x = self.batchnorm2(x)\n",
    "        x = F.dropout(x, 0.25)\n",
    "        x = self.pooling2(x)\n",
    "        \n",
    "        # Layer 3\n",
    "        x = self.padding2(x)\n",
    "        x = F.elu(self.conv3(x))\n",
    "        x = self.batchnorm3(x)\n",
    "        x = F.dropout(x, 0.25)\n",
    "        x = self.pooling3(x)\n",
    "        #print (x.size())\n",
    "        # FC Layer\n",
    "        x = x.view(-1,4 *1 * 10)# 4*2*9) # for T=128\n",
    "        #x = x.view(-1,4 *2 * 9)# 4*2*9) # for T=128\n",
    "        x = F.sigmoid(self.fc1(x))\n",
    "        return x\n",
    "\n",
    "\n",
    "net = EEGNet()#.cuda(0)\n",
    "#print (net.forward(Variable(torch.Tensor(np.random.rand(1, 1, 120, 64)))))#.cuda(0))))\n",
    "criterion = nn.BCELoss()\n",
    "optimizer = optim.Adam(net.parameters())"
   ]
  },
  {
   "cell_type": "code",
   "execution_count": null,
   "metadata": {
    "collapsed": true
   },
   "outputs": [],
   "source": []
  },
  {
   "cell_type": "code",
   "execution_count": 11,
   "metadata": {
    "collapsed": true
   },
   "outputs": [],
   "source": [
    "def train(epoch,X_train1,y_train1):\n",
    "        running_loss=0.0\n",
    "        # Mini batch training\n",
    "        print ('BS',batch_size)\n",
    "        for i in range(0,len(X_train1),batch_size):       \n",
    "            #print ('Epocj,mini-batch',epoch,i)\n",
    "            inputs = torch.from_numpy(X_train1[i:i+batch_size])\n",
    "            labels = torch.FloatTensor(y_train1[i:i+batch_size]*1.0)\n",
    "\n",
    "           # print (labels.size())\n",
    "            # wrap them in Variable\n",
    "            #inputs, labels = Variable(inputs.cuda(0)), Variable(labels.cuda(0))\n",
    "            inputs, labels = Variable(inputs), Variable(labels)\n",
    "\n",
    "            # zero the parameter gradients\n",
    "            optimizer.zero_grad()\n",
    "\n",
    "            # forward + backward + optimize\n",
    "            outputs = net(inputs)\n",
    "            #print ('op',outputs.size())\n",
    "            #print('labels',labels.size())\n",
    "            loss = criterion(outputs, labels)\n",
    "            loss.backward()\n",
    "\n",
    "            optimizer.step()\n",
    "\n",
    "            running_loss += loss.data[0]\n",
    "             # for graphing puposes\n",
    "            running_loss_array.append(loss.data[0])\n",
    "        \n",
    "        \n",
    "            #print the current status of training\n",
    "            #if(i % 128 == 0):\n",
    "             #   print('Train Epoch',epoch,'Mini batch:',i, '\\tLoss',loss.data[0])\n",
    "\n",
    "        return running_loss_array\n"
   ]
  },
  {
   "cell_type": "code",
   "execution_count": null,
   "metadata": {
    "collapsed": true
   },
   "outputs": [],
   "source": []
  },
  {
   "cell_type": "code",
   "execution_count": 12,
   "metadata": {
    "collapsed": true
   },
   "outputs": [],
   "source": [
    "####  for validation and testing \n",
    "def valid(net,epoch,X_val1,y_val1):\n",
    "    \n",
    "    predicted_loss=[]\n",
    "   \n",
    "    inputs = torch.from_numpy(X_val1)\n",
    "    labels = torch.FloatTensor(y_val1*1.0)\n",
    "\n",
    "    inputs, labels = Variable(inputs), Variable(labels)\n",
    "\n",
    "    '''\n",
    "    output = net(data)\n",
    "    valid_loss = valid_loss + F.nll_loss(output, target, size_average=False).data[0] \n",
    "    pred = output.data.max(1, keepdim=True)[1]\n",
    "    correct = correct + pred.eq(target.data.view_as(pred)).cpu().sum() \n",
    "    '''\n",
    "    ########################   \n",
    "    #print (inputs.size())\n",
    "    results = []\n",
    "   \n",
    "    predicted = []\n",
    "   \n",
    "    #inputs = Variable(torch.from_numpy(X_val1))#.cuda(0))\n",
    "    predicted = net(inputs)\n",
    "\n",
    "    predicted = predicted.data.cpu().numpy()\n",
    "    #from sklearn.metrics import roc_auc_score, precision_score, recall_score, accuracy_score\n",
    "    #print ('predicted',predicted.shape)\n",
    "    #print ('predicted',predicted)\n",
    "    Y=labels.data.numpy()\n",
    "   # print ('Y',Y)\n",
    "    for param in [\"acc\", \"auc\", \"recall\", \"precision\",\"fmeasure\"]:\n",
    "        if param == 'acc':\n",
    "            results.append(accuracy_score(Y, np.round(predicted)))\n",
    "        if param == \"auc\":\n",
    "            results.append(roc_auc_score(Y, predicted))\n",
    "        if param == \"recall\":\n",
    "            results.append(recall_score(Y, np.round(predicted)))\n",
    "        if param == \"precision\":\n",
    "            results.append(precision_score(Y, np.round(predicted)))\n",
    "        if param == \"fmeasure\":\n",
    "            precision = precision_score(Y, np.round(predicted))\n",
    "            recall = recall_score(Y, np.round(predicted))\n",
    "            results.append(2*precision*recall/ (precision+recall))\n",
    "     \n",
    "   # print (len(results))\n",
    "    return predicted, results #validation_loss_array\n"
   ]
  },
  {
   "cell_type": "code",
   "execution_count": 13,
   "metadata": {
    "collapsed": true
   },
   "outputs": [],
   "source": [
    "batch_size= 4\n",
    "Epochs=10"
   ]
  },
  {
   "cell_type": "code",
   "execution_count": 14,
   "metadata": {
    "collapsed": true
   },
   "outputs": [],
   "source": [
    "\n",
    "## This testdata is filtered first in matlab and then used and loaded over here \n",
    "\n",
    "dataset_test=scipy.io.loadmat('test_set_A_processed.mat')['data']\n",
    "targets_test=scipy.io.loadmat('true_labels_A_processed.mat')['labels']"
   ]
  },
  {
   "cell_type": "code",
   "execution_count": null,
   "metadata": {
    "collapsed": true
   },
   "outputs": [],
   "source": []
  },
  {
   "cell_type": "code",
   "execution_count": 15,
   "metadata": {
    "scrolled": true
   },
   "outputs": [
    {
     "name": "stdout",
     "output_type": "stream",
     "text": [
      "(300, 1, 144, 64)\n",
      "-------------\n",
      "(300, 1)\n",
      "------------------------------\n",
      "(40, 1, 144, 64)\n",
      "-------------\n",
      "(40, 1)\n",
      "-------------\n",
      "(1200, 1)\n",
      "\n",
      "Epoch  0\n",
      "BS 4\n",
      "Parameters:[\"acc\", \"auc\", \"recall\", \"precision\",\"fmeasure\"]\n",
      "validation_results [0.69999999999999996, 0.755, 0.69999999999999996, 0.69999999999999996, 0.69999999999999996]\n",
      "test_results [0.66583333333333339, 0.83920000000000006, 0.83499999999999996, 0.3121495327102804, 0.45442176870748302]\n",
      "\n",
      "Epoch  1\n",
      "BS 4\n",
      "Parameters:[\"acc\", \"auc\", \"recall\", \"precision\",\"fmeasure\"]\n",
      "validation_results [0.84999999999999998, 0.89500000000000002, 0.84999999999999998, 0.84999999999999998, 0.84999999999999998]\n",
      "test_results [0.77833333333333332, 0.9125899999999999, 0.88500000000000001, 0.42142857142857143, 0.57096774193548383]\n",
      "\n",
      "Epoch  2\n",
      "BS 4\n",
      "Parameters:[\"acc\", \"auc\", \"recall\", \"precision\",\"fmeasure\"]\n",
      "validation_results [0.875, 0.90249999999999997, 0.90000000000000002, 0.8571428571428571, 0.87804878048780477]\n",
      "test_results [0.80333333333333334, 0.92859999999999987, 0.89000000000000001, 0.45408163265306123, 0.60135135135135143]\n",
      "\n",
      "Epoch  3\n",
      "BS 4\n",
      "Parameters:[\"acc\", \"auc\", \"recall\", \"precision\",\"fmeasure\"]\n",
      "validation_results [0.875, 0.93500000000000005, 0.90000000000000002, 0.8571428571428571, 0.87804878048780477]\n",
      "test_results [0.8158333333333333, 0.93494499999999992, 0.88, 0.47184986595174261, 0.61431064572425831]\n",
      "\n",
      "Epoch  4\n",
      "BS 4\n",
      "Parameters:[\"acc\", \"auc\", \"recall\", \"precision\",\"fmeasure\"]\n",
      "validation_results [0.82499999999999996, 0.9425, 0.84999999999999998, 0.80952380952380953, 0.8292682926829269]\n",
      "test_results [0.82416666666666671, 0.93551499999999999, 0.88500000000000001, 0.48493150684931507, 0.62654867256637159]\n",
      "\n",
      "Epoch  5\n",
      "BS 4\n",
      "Parameters:[\"acc\", \"auc\", \"recall\", \"precision\",\"fmeasure\"]\n",
      "validation_results [0.90000000000000002, 0.95750000000000002, 0.90000000000000002, 0.90000000000000002, 0.90000000000000002]\n",
      "test_results [0.83416666666666661, 0.94102000000000008, 0.88500000000000001, 0.50141643059490082, 0.64014466546112114]\n",
      "\n",
      "Epoch  6\n",
      "BS 4\n",
      "Parameters:[\"acc\", \"auc\", \"recall\", \"precision\",\"fmeasure\"]\n",
      "validation_results [0.90000000000000002, 0.95999999999999996, 0.90000000000000002, 0.90000000000000002, 0.90000000000000002]\n",
      "test_results [0.83250000000000002, 0.94240500000000005, 0.89000000000000001, 0.49859943977591037, 0.6391382405745063]\n",
      "\n",
      "Epoch  7\n",
      "BS 4\n",
      "Parameters:[\"acc\", \"auc\", \"recall\", \"precision\",\"fmeasure\"]\n",
      "validation_results [0.84999999999999998, 0.96500000000000008, 0.80000000000000004, 0.88888888888888884, 0.8421052631578948]\n",
      "test_results [0.84333333333333338, 0.93896000000000002, 0.87, 0.5178571428571429, 0.64925373134328357]\n",
      "\n",
      "Epoch  8\n",
      "BS 4\n",
      "Parameters:[\"acc\", \"auc\", \"recall\", \"precision\",\"fmeasure\"]\n",
      "validation_results [0.84999999999999998, 0.95999999999999996, 0.84999999999999998, 0.84999999999999998, 0.84999999999999998]\n",
      "test_results [0.84166666666666667, 0.94283499999999998, 0.88, 0.51461988304093564, 0.64944649446494462]\n",
      "\n",
      "Epoch  9\n",
      "BS 4\n",
      "Parameters:[\"acc\", \"auc\", \"recall\", \"precision\",\"fmeasure\"]\n",
      "validation_results [0.90000000000000002, 0.96750000000000003, 0.94999999999999996, 0.86363636363636365, 0.90476190476190477]\n",
      "test_results [0.84999999999999998, 0.94684999999999997, 0.88500000000000001, 0.52994011976047906, 0.66292134831460681]\n"
     ]
    },
    {
     "data": {
      "image/png": "[encoded data removed]",
      "text/plain": [
       "<matplotlib.figure.Figure at 0x216d55e64a8>"
      ]
     },
     "metadata": {},
     "output_type": "display_data"
    },
    {
     "name": "stdout",
     "output_type": "stream",
     "text": [
      "(40, 1) (40, 1)\n"
     ]
    }
   ],
   "source": [
    "############## CLASSIFIER I : \n",
    "\n",
    "#dataset_A_hold.shape,targets_A_hold.shape\n",
    "\n",
    "X_train = np.reshape(dataset_A_train_1,[dataset_A_train_1.shape[0],1,dataset_A_train_1.shape[1],dataset_A_train_1.shape[2]]).astype('float32')\n",
    "y_train = np.reshape(targets_A_train_1,[targets_A_train_1.shape[0],1]).astype('float32')\n",
    "\n",
    "X_val = np.reshape(dataset_A_hold_1,[dataset_A_hold_1.shape[0],1,dataset_A_hold_1.shape[1],dataset_A_hold_1.shape[2]]).astype('float32') \n",
    "y_val = np.reshape(targets_A_hold_1,[targets_A_hold_1.shape[0],1]).astype('float32')\n",
    "\n",
    "X_test = np.reshape(dataset_test,[dataset_test.shape[0],1,dataset_test.shape[1],dataset_test.shape[2]]).astype('float32')  #np.random.rand(100*12,1, 42, 64).astype('float32')\n",
    "y_test = np.reshape(targets_test,[targets_test.shape[0],1]).astype('float32')\n",
    "\n",
    "\n",
    "print (X_train.shape)\n",
    "\n",
    "print ('-------------')\n",
    "print (y_train.shape)\n",
    "\n",
    "print('------------------------------')\n",
    "print (X_val.shape)\n",
    "\n",
    "print ('-------------')\n",
    "print (y_val.shape)\n",
    "\n",
    "\n",
    "print ('-------------')\n",
    "print (y_test.shape)\n",
    "\n",
    "\n",
    "running_loss_array=[]\n",
    "\n",
    "for epoch in range(Epochs):  # loop over the dataset multiple times\n",
    "    \n",
    "    print (\"\\nEpoch \", epoch)\n",
    "   # print ('range',int(len(X_train)/batch_size-1))\n",
    "    train_loss=train(epoch,X_train,y_train)\n",
    "    prediction1, valid_results=valid(net,epoch,X_val,y_val)\n",
    "    \n",
    "    pred1, test_results=valid(net,epoch,X_test,y_test)\n",
    "    \n",
    "    print ('Parameters:[\"acc\", \"auc\", \"recall\", \"precision\",\"fmeasure\"]')\n",
    "    print ('validation_results',valid_results)\n",
    "    print ('test_results',test_results)\n",
    "    \n",
    "#plot loss\n",
    "plt.plot(train_loss)\n",
    "plt.ylabel('loss')\n",
    "plt.xlabel('iterations')\n",
    "plt.show()\n",
    "\n",
    "print (prediction1.shape,y_val.shape)"
   ]
  },
  {
   "cell_type": "code",
   "execution_count": 16,
   "metadata": {
    "scrolled": true
   },
   "outputs": [
    {
     "name": "stdout",
     "output_type": "stream",
     "text": [
      "(300, 1, 144, 64)\n",
      "-------------\n",
      "(300, 1)\n",
      "------------------------------\n",
      "(40, 1, 144, 64)\n",
      "-------------\n",
      "(40, 1)\n",
      "\n",
      "Epoch  0\n",
      "BS 4\n",
      "Parameters:[\"acc\", \"auc\", \"recall\", \"precision\",\"fmeasure\"]\n",
      "validation_results [0.90000000000000002, 0.97249999999999992, 0.90000000000000002, 0.90000000000000002, 0.90000000000000002]\n",
      "test_results [0.87916666666666665, 0.95624500000000001, 0.89500000000000002, 0.5907590759075908, 0.7117296222664018]\n",
      "\n",
      "Epoch  1\n",
      "BS 4\n",
      "Parameters:[\"acc\", \"auc\", \"recall\", \"precision\",\"fmeasure\"]\n",
      "validation_results [0.92500000000000004, 0.97249999999999992, 0.94999999999999996, 0.90476190476190477, 0.92682926829268286]\n",
      "test_results [0.8833333333333333, 0.95528999999999997, 0.88, 0.60273972602739723, 0.71544715447154472]\n",
      "\n",
      "Epoch  2\n",
      "BS 4\n",
      "Parameters:[\"acc\", \"auc\", \"recall\", \"precision\",\"fmeasure\"]\n",
      "validation_results [0.90000000000000002, 0.97250000000000003, 0.90000000000000002, 0.90000000000000002, 0.90000000000000002]\n",
      "test_results [0.88166666666666671, 0.95157500000000006, 0.875, 0.59931506849315064, 0.71138211382113825]\n",
      "\n",
      "Epoch  3\n",
      "BS 4\n",
      "Parameters:[\"acc\", \"auc\", \"recall\", \"precision\",\"fmeasure\"]\n",
      "validation_results [0.94999999999999996, 0.96750000000000003, 1.0, 0.90909090909090906, 0.95238095238095233]\n",
      "test_results [0.8783333333333333, 0.95313499999999995, 0.875, 0.59121621621621623, 0.70564516129032262]\n",
      "\n",
      "Epoch  4\n",
      "BS 4\n",
      "Parameters:[\"acc\", \"auc\", \"recall\", \"precision\",\"fmeasure\"]\n",
      "validation_results [0.92500000000000004, 0.95250000000000001, 0.94999999999999996, 0.90476190476190477, 0.92682926829268286]\n",
      "test_results [0.875, 0.95007499999999989, 0.87, 0.58389261744966447, 0.6987951807228916]\n",
      "\n",
      "Epoch  5\n",
      "BS 4\n",
      "Parameters:[\"acc\", \"auc\", \"recall\", \"precision\",\"fmeasure\"]\n",
      "validation_results [0.90000000000000002, 0.95000000000000007, 0.90000000000000002, 0.90000000000000002, 0.90000000000000002]\n",
      "test_results [0.87333333333333329, 0.94611499999999993, 0.875, 0.57947019867549665, 0.6972111553784861]\n",
      "\n",
      "Epoch  6\n",
      "BS 4\n",
      "Parameters:[\"acc\", \"auc\", \"recall\", \"precision\",\"fmeasure\"]\n",
      "validation_results [0.92500000000000004, 0.94500000000000006, 0.94999999999999996, 0.90476190476190477, 0.92682926829268286]\n",
      "test_results [0.87, 0.94315000000000004, 0.88, 0.5714285714285714, 0.69291338582677153]\n",
      "\n",
      "Epoch  7\n",
      "BS 4\n",
      "Parameters:[\"acc\", \"auc\", \"recall\", \"precision\",\"fmeasure\"]\n",
      "validation_results [0.92500000000000004, 0.93500000000000005, 0.94999999999999996, 0.90476190476190477, 0.92682926829268286]\n",
      "test_results [0.87083333333333335, 0.94035499999999994, 0.87, 0.57425742574257421, 0.69184890656063613]\n",
      "\n",
      "Epoch  8\n",
      "BS 4\n",
      "Parameters:[\"acc\", \"auc\", \"recall\", \"precision\",\"fmeasure\"]\n",
      "validation_results [0.90000000000000002, 0.94500000000000006, 0.90000000000000002, 0.90000000000000002, 0.90000000000000002]\n",
      "test_results [0.86833333333333329, 0.93752500000000005, 0.84499999999999997, 0.57094594594594594, 0.68145161290322587]\n",
      "\n",
      "Epoch  9\n",
      "BS 4\n",
      "Parameters:[\"acc\", \"auc\", \"recall\", \"precision\",\"fmeasure\"]\n",
      "validation_results [0.90000000000000002, 0.94000000000000006, 0.90000000000000002, 0.90000000000000002, 0.90000000000000002]\n",
      "test_results [0.86750000000000005, 0.93706999999999996, 0.84499999999999997, 0.56902356902356899, 0.68008048289738421]\n"
     ]
    },
    {
     "data": {
      "image/png": "[encoded data removed]",
      "text/plain": [
       "<matplotlib.figure.Figure at 0x216d55c6ef0>"
      ]
     },
     "metadata": {},
     "output_type": "display_data"
    }
   ],
   "source": [
    "############## CLASSIFIER II : \n",
    "\n",
    "#dataset_A_hold.shape,targets_A_hold.shape\n",
    "\n",
    "X_train = np.reshape(dataset_A_train_2,[dataset_A_train_2.shape[0],1,dataset_A_train_2.shape[1],dataset_A_train_2.shape[2]]).astype('float32')\n",
    "y_train = np.reshape(targets_A_train_2,[targets_A_train_2.shape[0],1]).astype('float32')\n",
    "\n",
    "#X_val = np.reshape(dataset_A_hold_2,[dataset_A_hold_2.shape[0],1,dataset_A_hold_2.shape[1],dataset_A_hold_2.shape[2]]).astype('float32') \n",
    "#y_val = np.reshape(targets_A_hold_2,[targets_A_hold_2.shape[0],1]).astype('float32')\n",
    "\n",
    "\n",
    "\n",
    "print (X_train.shape)\n",
    "\n",
    "print ('-------------')\n",
    "print (y_train.shape)\n",
    "\n",
    "print('------------------------------')\n",
    "print (X_val.shape)\n",
    "\n",
    "print ('-------------')\n",
    "print (y_val.shape)\n",
    "\n",
    "\n",
    "running_loss_array=[]\n",
    "\n",
    "for epoch in range(Epochs):  # loop over the dataset multiple times\n",
    "    \n",
    "    print (\"\\nEpoch \", epoch)\n",
    "   # print ('range',int(len(X_train)/batch_size-1))\n",
    "    train_loss=train(epoch,X_train,y_train)\n",
    "    prediction2, valid_results=valid(net,epoch,X_val,y_val)\n",
    "    pred2, test_results=valid(net,epoch,X_test,y_test)\n",
    "    print ('Parameters:[\"acc\", \"auc\", \"recall\", \"precision\",\"fmeasure\"]')\n",
    "    print ('validation_results',valid_results)\n",
    "    print ('test_results',test_results)\n",
    "\n",
    "    #plot loss\n",
    "plt.plot(train_loss)\n",
    "plt.ylabel('loss')\n",
    "plt.xlabel('iterations')\n",
    "plt.show()"
   ]
  },
  {
   "cell_type": "code",
   "execution_count": null,
   "metadata": {
    "collapsed": true
   },
   "outputs": [],
   "source": []
  },
  {
   "cell_type": "code",
   "execution_count": 17,
   "metadata": {
    "scrolled": true
   },
   "outputs": [
    {
     "name": "stdout",
     "output_type": "stream",
     "text": [
      "(300, 1, 144, 64)\n",
      "-------------\n",
      "(300, 1)\n",
      "------------------------------\n",
      "(40, 1, 144, 64)\n",
      "-------------\n",
      "(40, 1)\n",
      "\n",
      "Epoch  0\n",
      "BS 4\n",
      "Parameters:[\"acc\", \"auc\", \"recall\", \"precision\",\"fmeasure\"]\n",
      "validation_results [0.84999999999999998, 0.94249999999999989, 0.80000000000000004, 0.88888888888888884, 0.8421052631578948]\n",
      "test_results [0.89583333333333337, 0.95342499999999997, 0.84999999999999998, 0.64150943396226412, 0.73118279569892475]\n",
      "\n",
      "Epoch  1\n",
      "BS 4\n",
      "Parameters:[\"acc\", \"auc\", \"recall\", \"precision\",\"fmeasure\"]\n",
      "validation_results [0.84999999999999998, 0.96250000000000002, 0.80000000000000004, 0.88888888888888884, 0.8421052631578948]\n",
      "test_results [0.91000000000000003, 0.95775500000000002, 0.83499999999999996, 0.69008264462809921, 0.75565610859728505]\n",
      "\n",
      "Epoch  2\n",
      "BS 4\n",
      "Parameters:[\"acc\", \"auc\", \"recall\", \"precision\",\"fmeasure\"]\n",
      "validation_results [0.90000000000000002, 0.97000000000000008, 0.84999999999999998, 0.94444444444444442, 0.89473684210526316]\n",
      "test_results [0.91083333333333338, 0.95710500000000009, 0.85499999999999998, 0.68674698795180722, 0.76169265033407574]\n",
      "\n",
      "Epoch  3\n",
      "BS 4\n",
      "Parameters:[\"acc\", \"auc\", \"recall\", \"precision\",\"fmeasure\"]\n",
      "validation_results [0.90000000000000002, 0.97000000000000008, 0.84999999999999998, 0.94444444444444442, 0.89473684210526316]\n",
      "test_results [0.90500000000000003, 0.95729500000000001, 0.84499999999999997, 0.67063492063492058, 0.74778761061946897]\n",
      "\n",
      "Epoch  4\n",
      "BS 4\n",
      "Parameters:[\"acc\", \"auc\", \"recall\", \"precision\",\"fmeasure\"]\n",
      "validation_results [0.90000000000000002, 0.97000000000000008, 0.84999999999999998, 0.94444444444444442, 0.89473684210526316]\n",
      "test_results [0.90583333333333338, 0.95696499999999995, 0.84499999999999997, 0.67330677290836649, 0.74944567627494441]\n",
      "\n",
      "Epoch  5\n",
      "BS 4\n",
      "Parameters:[\"acc\", \"auc\", \"recall\", \"precision\",\"fmeasure\"]\n",
      "validation_results [0.90000000000000002, 0.97000000000000008, 0.84999999999999998, 0.94444444444444442, 0.89473684210526316]\n",
      "test_results [0.90666666666666662, 0.95686499999999997, 0.84999999999999998, 0.67460317460317465, 0.75221238938053114]\n",
      "\n",
      "Epoch  6\n",
      "BS 4\n",
      "Parameters:[\"acc\", \"auc\", \"recall\", \"precision\",\"fmeasure\"]\n",
      "validation_results [0.90000000000000002, 0.96750000000000003, 0.84999999999999998, 0.94444444444444442, 0.89473684210526316]\n",
      "test_results [0.90666666666666662, 0.95641000000000009, 0.84999999999999998, 0.67460317460317465, 0.75221238938053114]\n",
      "\n",
      "Epoch  7\n",
      "BS 4\n",
      "Parameters:[\"acc\", \"auc\", \"recall\", \"precision\",\"fmeasure\"]\n",
      "validation_results [0.90000000000000002, 0.96999999999999997, 0.84999999999999998, 0.94444444444444442, 0.89473684210526316]\n",
      "test_results [0.90500000000000003, 0.95604500000000003, 0.84499999999999997, 0.67063492063492058, 0.74778761061946897]\n",
      "\n",
      "Epoch  8\n",
      "BS 4\n",
      "Parameters:[\"acc\", \"auc\", \"recall\", \"precision\",\"fmeasure\"]\n",
      "validation_results [0.875, 0.96999999999999997, 0.80000000000000004, 0.94117647058823528, 0.8648648648648648]\n",
      "test_results [0.90583333333333338, 0.95582499999999992, 0.84499999999999997, 0.67330677290836649, 0.74944567627494441]\n",
      "\n",
      "Epoch  9\n",
      "BS 4\n",
      "Parameters:[\"acc\", \"auc\", \"recall\", \"precision\",\"fmeasure\"]\n",
      "validation_results [0.875, 0.96999999999999997, 0.80000000000000004, 0.94117647058823528, 0.8648648648648648]\n",
      "test_results [0.90666666666666662, 0.95552499999999996, 0.84499999999999997, 0.67600000000000005, 0.75111111111111128]\n"
     ]
    },
    {
     "data": {
      "image/png": "[encoded data removed]",
      "text/plain": [
       "<matplotlib.figure.Figure at 0x21680242a58>"
      ]
     },
     "metadata": {},
     "output_type": "display_data"
    }
   ],
   "source": [
    "############## CLASSIFIER III : \n",
    "\n",
    "#dataset_A_hold.shape,targets_A_hold.shape\n",
    "\n",
    "X_train = np.reshape(dataset_A_train_3,[dataset_A_train_3.shape[0],1,dataset_A_train_3.shape[1],dataset_A_train_3.shape[2]]).astype('float32')\n",
    "y_train = np.reshape(targets_A_train_3,[targets_A_train_3.shape[0],1]).astype('float32')\n",
    "\n",
    "#X_val = np.reshape(dataset_A_hold_3,[dataset_A_hold_3.shape[0],1,dataset_A_hold_3.shape[1],dataset_A_hold_3.shape[2]]).astype('float32') \n",
    "#y_val = np.reshape(targets_A_hold_3,[targets_A_hold_3.shape[0],1]).astype('float32')\n",
    "\n",
    "\n",
    "# make a testing true labels thing for checking accuracy \n",
    "\n",
    "print (X_train.shape)\n",
    "\n",
    "print ('-------------')\n",
    "print (y_train.shape)\n",
    "\n",
    "print('------------------------------')\n",
    "print (X_val.shape)\n",
    "\n",
    "print ('-------------')\n",
    "print (y_val.shape)\n",
    "\n",
    "\n",
    "running_loss_array=[]\n",
    "\n",
    "for epoch in range(Epochs):  # loop over the dataset multiple times\n",
    "    \n",
    "    print (\"\\nEpoch \", epoch)\n",
    "   # print ('range',int(len(X_train)/batch_size-1))\n",
    "    train_loss=train(epoch,X_train,y_train)\n",
    "    prediction3, valid_results=valid(net,epoch,X_val,y_val)\n",
    "    pred3, test_results=valid(net,epoch,X_test,y_test)\n",
    "    print ('Parameters:[\"acc\", \"auc\", \"recall\", \"precision\",\"fmeasure\"]')\n",
    "    print ('validation_results',valid_results)\n",
    "    print ('test_results',test_results)\n",
    "    # Validation accuracy\n",
    "    #print (\"Running Training Loss \", running_loss)\n",
    "   # print (\"Train - \", evaluate(net, X_train, y_train, params))\n",
    "   # print (\"Validation - \", evaluate(net, X_val, y_val, params))\n",
    "    #print (\"Test - \", evaluate(net, X_test, y_test, params))\n",
    "\n",
    "\n",
    "#plot loss\n",
    "plt.plot(train_loss)\n",
    "plt.ylabel('loss')\n",
    "plt.xlabel('iterations')\n",
    "plt.show()"
   ]
  },
  {
   "cell_type": "code",
   "execution_count": null,
   "metadata": {
    "collapsed": true
   },
   "outputs": [],
   "source": []
  },
  {
   "cell_type": "code",
   "execution_count": 18,
   "metadata": {
    "scrolled": true
   },
   "outputs": [
    {
     "name": "stdout",
     "output_type": "stream",
     "text": [
      "(300, 1, 144, 64)\n",
      "-------------\n",
      "(300, 1)\n",
      "------------------------------\n",
      "(40, 1, 144, 64)\n",
      "-------------\n",
      "(40, 1)\n",
      "\n",
      "Epoch  0\n",
      "BS 4\n",
      "Parameters:[\"acc\", \"auc\", \"recall\", \"precision\",\"fmeasure\"]\n",
      "validation_results [0.92500000000000004, 0.96750000000000003, 0.84999999999999998, 1.0, 0.91891891891891886]\n",
      "test_results [0.93666666666666665, 0.96068500000000001, 0.81499999999999995, 0.80693069306930698, 0.81094527363184077]\n",
      "\n",
      "Epoch  1\n",
      "BS 4\n",
      "Parameters:[\"acc\", \"auc\", \"recall\", \"precision\",\"fmeasure\"]\n",
      "validation_results [0.90000000000000002, 0.98999999999999999, 0.84999999999999998, 0.94444444444444442, 0.89473684210526316]\n",
      "test_results [0.90583333333333338, 0.954565, 0.875, 0.66539923954372626, 0.75593952483801297]\n",
      "\n",
      "Epoch  2\n",
      "BS 4\n",
      "Parameters:[\"acc\", \"auc\", \"recall\", \"precision\",\"fmeasure\"]\n",
      "validation_results [0.92500000000000004, 0.98999999999999999, 0.90000000000000002, 0.94736842105263153, 0.92307692307692313]\n",
      "test_results [0.92416666666666669, 0.96123500000000006, 0.84499999999999997, 0.73799126637554591, 0.78787878787878785]\n",
      "\n",
      "Epoch  3\n",
      "BS 4\n",
      "Parameters:[\"acc\", \"auc\", \"recall\", \"precision\",\"fmeasure\"]\n",
      "validation_results [0.90000000000000002, 0.98499999999999999, 0.84999999999999998, 0.94444444444444442, 0.89473684210526316]\n",
      "test_results [0.91333333333333333, 0.96137000000000006, 0.85499999999999998, 0.69512195121951215, 0.76681614349775773]\n",
      "\n",
      "Epoch  4\n",
      "BS 4\n",
      "Parameters:[\"acc\", \"auc\", \"recall\", \"precision\",\"fmeasure\"]\n",
      "validation_results [0.90000000000000002, 0.98999999999999999, 0.90000000000000002, 0.90000000000000002, 0.90000000000000002]\n",
      "test_results [0.91916666666666669, 0.96509999999999996, 0.87, 0.71020408163265303, 0.78202247191011232]\n",
      "\n",
      "Epoch  5\n",
      "BS 4\n",
      "Parameters:[\"acc\", \"auc\", \"recall\", \"precision\",\"fmeasure\"]\n",
      "validation_results [0.90000000000000002, 0.98999999999999999, 0.90000000000000002, 0.90000000000000002, 0.90000000000000002]\n",
      "test_results [0.91666666666666663, 0.96486999999999989, 0.875, 0.69999999999999996, 0.77777777777777768]\n",
      "\n",
      "Epoch  6\n",
      "BS 4\n",
      "Parameters:[\"acc\", \"auc\", \"recall\", \"precision\",\"fmeasure\"]\n",
      "validation_results [0.90000000000000002, 0.98999999999999999, 0.90000000000000002, 0.90000000000000002, 0.90000000000000002]\n",
      "test_results [0.91749999999999998, 0.96462999999999999, 0.88, 0.70119521912350602, 0.7804878048780487]\n",
      "\n",
      "Epoch  7\n",
      "BS 4\n",
      "Parameters:[\"acc\", \"auc\", \"recall\", \"precision\",\"fmeasure\"]\n",
      "validation_results [0.90000000000000002, 0.98999999999999999, 0.90000000000000002, 0.90000000000000002, 0.90000000000000002]\n",
      "test_results [0.91666666666666663, 0.96432499999999999, 0.88, 0.69841269841269837, 0.77876106194690264]\n",
      "\n",
      "Epoch  8\n",
      "BS 4\n",
      "Parameters:[\"acc\", \"auc\", \"recall\", \"precision\",\"fmeasure\"]\n",
      "validation_results [0.90000000000000002, 0.98999999999999999, 0.90000000000000002, 0.90000000000000002, 0.90000000000000002]\n",
      "test_results [0.91583333333333339, 0.96401000000000003, 0.875, 0.6972111553784861, 0.77605321507760527]\n",
      "\n",
      "Epoch  9\n",
      "BS 4\n",
      "Parameters:[\"acc\", \"auc\", \"recall\", \"precision\",\"fmeasure\"]\n",
      "validation_results [0.90000000000000002, 0.98999999999999999, 0.90000000000000002, 0.90000000000000002, 0.90000000000000002]\n",
      "test_results [0.91500000000000004, 0.96381499999999998, 0.87, 0.69599999999999995, 0.77333333333333332]\n"
     ]
    },
    {
     "data": {
      "image/png": "[encoded data removed]",
      "text/plain": [
       "<matplotlib.figure.Figure at 0x216d6602668>"
      ]
     },
     "metadata": {},
     "output_type": "display_data"
    }
   ],
   "source": [
    "############## CLASSIFIER IV : \n",
    "\n",
    "#dataset_A_hold.shape,targets_A_hold.shape\n",
    "\n",
    "X_train = np.reshape(dataset_A_train_4,[dataset_A_train_4.shape[0],1,dataset_A_train_4.shape[1],dataset_A_train_4.shape[2]]).astype('float32')\n",
    "y_train = np.reshape(targets_A_train_4,[targets_A_train_4.shape[0],1]).astype('float32')\n",
    "\n",
    "#X_val = np.reshape(dataset_A_hold_4,[dataset_A_hold_4.shape[0],1,dataset_A_hold_4.shape[1],dataset_A_hold_4.shape[2]]).astype('float32') \n",
    "#y_val = np.reshape(targets_A_hold_4,[targets_A_hold_4.shape[0],1]).astype('float32')\n",
    "\n",
    "\n",
    "print (X_train.shape)\n",
    "\n",
    "print ('-------------')\n",
    "print (y_train.shape)\n",
    "\n",
    "print('------------------------------')\n",
    "print (X_val.shape)\n",
    "\n",
    "print ('-------------')\n",
    "print (y_val.shape)\n",
    "\n",
    "\n",
    "running_loss_array=[]\n",
    "\n",
    "for epoch in range(Epochs):  # loop over the dataset multiple times\n",
    "    \n",
    "    print (\"\\nEpoch \", epoch)\n",
    "   # print ('range',int(len(X_train)/batch_size-1))\n",
    "    train_loss=train(epoch,X_train,y_train)\n",
    "    prediction4, valid_results=valid(net,epoch,X_val,y_val)\n",
    "    pred4, test_results=valid(net,epoch,X_test,y_test)\n",
    "    print ('Parameters:[\"acc\", \"auc\", \"recall\", \"precision\",\"fmeasure\"]')\n",
    "    print ('validation_results',valid_results)\n",
    "    print ('test_results',test_results)\n",
    "    # Validation accuracy\n",
    "    #print (\"Running Training Loss \", running_loss)\n",
    "   # print (\"Train - \", evaluate(net, X_train, y_train, params))\n",
    "   # print (\"Validation - \", evaluate(net, X_val, y_val, params))\n",
    "    #print (\"Test - \", evaluate(net, X_test, y_test, params))\n",
    "\n",
    "\n",
    "#plot loss\n",
    "plt.plot(train_loss)\n",
    "plt.ylabel('loss')\n",
    "plt.xlabel('iterations')\n",
    "plt.show()"
   ]
  },
  {
   "cell_type": "code",
   "execution_count": null,
   "metadata": {
    "collapsed": true
   },
   "outputs": [],
   "source": []
  },
  {
   "cell_type": "code",
   "execution_count": 19,
   "metadata": {
    "scrolled": true
   },
   "outputs": [
    {
     "name": "stdout",
     "output_type": "stream",
     "text": [
      "(298, 1, 144, 64)\n",
      "-------------\n",
      "(298, 1)\n",
      "------------------------------\n",
      "(40, 1, 144, 64)\n",
      "-------------\n",
      "(40, 1)\n",
      "\n",
      "Epoch  0\n",
      "BS 4\n",
      "Parameters:[\"acc\", \"auc\", \"recall\", \"precision\",\"fmeasure\"]\n",
      "validation_results [0.92500000000000004, 0.98999999999999999, 0.84999999999999998, 1.0, 0.91891891891891886]\n",
      "test_results [0.93999999999999995, 0.96480499999999991, 0.77000000000000002, 0.85555555555555551, 0.81052631578947365]\n",
      "\n",
      "Epoch  1\n",
      "BS 4\n",
      "Parameters:[\"acc\", \"auc\", \"recall\", \"precision\",\"fmeasure\"]\n",
      "validation_results [0.94999999999999996, 0.99249999999999994, 0.90000000000000002, 1.0, 0.94736842105263164]\n",
      "test_results [0.9425, 0.96845999999999999, 0.81499999999999995, 0.83589743589743593, 0.82531645569620249]\n",
      "\n",
      "Epoch  2\n",
      "BS 4\n",
      "Parameters:[\"acc\", \"auc\", \"recall\", \"precision\",\"fmeasure\"]\n",
      "validation_results [0.92500000000000004, 0.98999999999999999, 0.90000000000000002, 0.94736842105263153, 0.92307692307692313]\n",
      "test_results [0.9408333333333333, 0.96907500000000002, 0.83499999999999996, 0.81463414634146336, 0.8246913580246914]\n",
      "\n",
      "Epoch  3\n",
      "BS 4\n",
      "Parameters:[\"acc\", \"auc\", \"recall\", \"precision\",\"fmeasure\"]\n",
      "validation_results [0.92500000000000004, 0.98999999999999999, 0.90000000000000002, 0.94736842105263153, 0.92307692307692313]\n",
      "test_results [0.9425, 0.96953, 0.83999999999999997, 0.81951219512195117, 0.82962962962962961]\n",
      "\n",
      "Epoch  4\n",
      "BS 4\n",
      "Parameters:[\"acc\", \"auc\", \"recall\", \"precision\",\"fmeasure\"]\n",
      "validation_results [0.92500000000000004, 0.98999999999999999, 0.90000000000000002, 0.94736842105263153, 0.92307692307692313]\n",
      "test_results [0.9408333333333333, 0.96941999999999995, 0.83999999999999997, 0.81159420289855078, 0.82555282555282561]\n",
      "\n",
      "Epoch  5\n",
      "BS 4\n",
      "Parameters:[\"acc\", \"auc\", \"recall\", \"precision\",\"fmeasure\"]\n",
      "validation_results [0.92500000000000004, 0.98999999999999999, 0.90000000000000002, 0.94736842105263153, 0.92307692307692313]\n",
      "test_results [0.9408333333333333, 0.96935250000000006, 0.84999999999999998, 0.80568720379146919, 0.82725060827250607]\n",
      "\n",
      "Epoch  6\n",
      "BS 4\n",
      "Parameters:[\"acc\", \"auc\", \"recall\", \"precision\",\"fmeasure\"]\n",
      "validation_results [0.92500000000000004, 0.99250000000000005, 0.90000000000000002, 0.94736842105263153, 0.92307692307692313]\n",
      "test_results [0.9408333333333333, 0.96916999999999998, 0.84999999999999998, 0.80568720379146919, 0.82725060827250607]\n",
      "\n",
      "Epoch  7\n",
      "BS 4\n",
      "Parameters:[\"acc\", \"auc\", \"recall\", \"precision\",\"fmeasure\"]\n",
      "validation_results [0.92500000000000004, 0.99250000000000005, 0.90000000000000002, 0.94736842105263153, 0.92307692307692313]\n",
      "test_results [0.93833333333333335, 0.96916999999999998, 0.84999999999999998, 0.79439252336448596, 0.82125603864734309]\n",
      "\n",
      "Epoch  8\n",
      "BS 4\n",
      "Parameters:[\"acc\", \"auc\", \"recall\", \"precision\",\"fmeasure\"]\n",
      "validation_results [0.94999999999999996, 0.99250000000000005, 0.94999999999999996, 0.94999999999999996, 0.95000000000000007]\n",
      "test_results [0.9375, 0.96911500000000006, 0.84999999999999998, 0.79069767441860461, 0.81927710843373491]\n",
      "\n",
      "Epoch  9\n",
      "BS 4\n",
      "Parameters:[\"acc\", \"auc\", \"recall\", \"precision\",\"fmeasure\"]\n",
      "validation_results [0.92500000000000004, 0.99250000000000005, 0.94999999999999996, 0.90476190476190477, 0.92682926829268286]\n",
      "test_results [0.93833333333333335, 0.96883999999999992, 0.84999999999999998, 0.79439252336448596, 0.82125603864734309]\n"
     ]
    },
    {
     "data": {
      "image/png": "[encoded data removed]",
      "text/plain": [
       "<matplotlib.figure.Figure at 0x216846a66d8>"
      ]
     },
     "metadata": {},
     "output_type": "display_data"
    }
   ],
   "source": [
    "############## CLASSIFIER V : \n",
    "\n",
    "#dataset_A_hold.shape,targets_A_hold.shape\n",
    "\n",
    "X_train = np.reshape(dataset_A_train_5,[dataset_A_train_5.shape[0],1,dataset_A_train_5.shape[1],dataset_A_train_5.shape[2]]).astype('float32')\n",
    "y_train = np.reshape(targets_A_train_5,[targets_A_train_5.shape[0],1]).astype('float32')\n",
    "\n",
    "#X_val = np.reshape(dataset_A_hold_5,[dataset_A_hold_5.shape[0],1,dataset_A_hold_5.shape[1],dataset_A_hold_5.shape[2]]).astype('float32') \n",
    "#y_val = np.reshape(targets_A_hold_5,[targets_A_hold_5.shape[0],1]).astype('float32')\n",
    "\n",
    "\n",
    "print (X_train.shape)\n",
    "\n",
    "print ('-------------')\n",
    "print (y_train.shape)\n",
    "\n",
    "print('------------------------------')\n",
    "print (X_val.shape)\n",
    "\n",
    "print ('-------------')\n",
    "print (y_val.shape)\n",
    "\n",
    "\n",
    "running_loss_array=[]\n",
    "\n",
    "for epoch in range(Epochs):  # loop over the dataset multiple times\n",
    "    \n",
    "    print (\"\\nEpoch \", epoch)\n",
    "   # print ('range',int(len(X_train)/batch_size-1))\n",
    "    train_loss=train(epoch,X_train,y_train)\n",
    "    prediction5, valid_results=valid(net,epoch,X_val,y_val)\n",
    "    pred5, test_results=valid(net,epoch,X_test,y_test)\n",
    "    print ('Parameters:[\"acc\", \"auc\", \"recall\", \"precision\",\"fmeasure\"]')\n",
    "    print ('validation_results',valid_results)\n",
    "    print ('test_results',test_results)\n",
    "  #plot loss\n",
    "plt.plot(train_loss)\n",
    "plt.ylabel('loss')\n",
    "plt.xlabel('iterations')\n",
    "plt.show()"
   ]
  },
  {
   "cell_type": "code",
   "execution_count": 20,
   "metadata": {
    "scrolled": true
   },
   "outputs": [
    {
     "data": {
      "text/plain": [
       "(40, 1)"
      ]
     },
     "execution_count": 20,
     "metadata": {},
     "output_type": "execute_result"
    }
   ],
   "source": [
    "prediction1[40:42,:]=0\n",
    "prediction1.shape"
   ]
  },
  {
   "cell_type": "code",
   "execution_count": 21,
   "metadata": {
    "scrolled": true
   },
   "outputs": [
    {
     "data": {
      "text/plain": [
       "(40, 1)"
      ]
     },
     "execution_count": 21,
     "metadata": {},
     "output_type": "execute_result"
    }
   ],
   "source": [
    "prediction2.shape"
   ]
  },
  {
   "cell_type": "code",
   "execution_count": 22,
   "metadata": {
    "scrolled": true
   },
   "outputs": [
    {
     "data": {
      "text/plain": [
       "(40, 1)"
      ]
     },
     "execution_count": 22,
     "metadata": {},
     "output_type": "execute_result"
    }
   ],
   "source": [
    "prediction3.shape"
   ]
  },
  {
   "cell_type": "code",
   "execution_count": 23,
   "metadata": {
    "scrolled": false
   },
   "outputs": [
    {
     "data": {
      "text/plain": [
       "(40, 1)"
      ]
     },
     "execution_count": 23,
     "metadata": {},
     "output_type": "execute_result"
    }
   ],
   "source": [
    "prediction4.shape"
   ]
  },
  {
   "cell_type": "code",
   "execution_count": 24,
   "metadata": {
    "scrolled": true
   },
   "outputs": [
    {
     "data": {
      "text/plain": [
       "(40, 1)"
      ]
     },
     "execution_count": 24,
     "metadata": {},
     "output_type": "execute_result"
    }
   ],
   "source": [
    "prediction5.shape"
   ]
  },
  {
   "cell_type": "code",
   "execution_count": 25,
   "metadata": {
    "scrolled": true
   },
   "outputs": [
    {
     "name": "stdout",
     "output_type": "stream",
     "text": [
      "[[  8.82457852e-01]\n",
      " [  7.17868626e-01]\n",
      " [  7.12867677e-02]\n",
      " [  9.91149545e-01]\n",
      " [  1.35464885e-04]\n",
      " [  9.72803712e-01]\n",
      " [  9.96339917e-01]\n",
      " [  1.21956151e-02]\n",
      " [  3.66124898e-01]\n",
      " [  1.28358919e-02]\n",
      " [  8.99914622e-01]\n",
      " [  1.64642986e-02]\n",
      " [  9.95988727e-01]\n",
      " [  9.99952674e-01]\n",
      " [  5.36491461e-02]\n",
      " [  7.28374958e-01]\n",
      " [  9.98088717e-01]\n",
      " [  2.09422275e-01]\n",
      " [  8.07511330e-01]\n",
      " [  7.42139101e-01]\n",
      " [  9.71634057e-04]\n",
      " [  3.64736840e-02]\n",
      " [  6.21152343e-03]\n",
      " [  9.71991897e-01]\n",
      " [  9.99708354e-01]\n",
      " [  9.39692020e-01]\n",
      " [  3.85225475e-01]\n",
      " [  2.84635220e-02]\n",
      " [  9.87259865e-01]\n",
      " [  2.99881041e-01]\n",
      " [  6.86704367e-02]\n",
      " [  4.69911806e-02]\n",
      " [  5.47818886e-03]\n",
      " [  2.48482684e-03]\n",
      " [  9.12300944e-01]\n",
      " [  3.34190488e-01]\n",
      " [  1.91751346e-02]\n",
      " [  1.17393979e-03]\n",
      " [  9.99701679e-01]\n",
      " [  8.98787022e-01]]\n"
     ]
    }
   ],
   "source": [
    "avg_prediction =  (prediction1 + prediction2 + prediction3 + prediction4 + prediction5[0:42,:]) / 5\n",
    "print (avg_prediction)"
   ]
  },
  {
   "cell_type": "code",
   "execution_count": null,
   "metadata": {
    "collapsed": true
   },
   "outputs": [],
   "source": []
  },
  {
   "cell_type": "code",
   "execution_count": 26,
   "metadata": {},
   "outputs": [
    {
     "name": "stdout",
     "output_type": "stream",
     "text": [
      "(40, 1)\n",
      "Ensemble Result [0.92500000000000004, 0.98249999999999993, 0.90000000000000002, 0.94736842105263153, 0.92307692307692313]\n"
     ]
    }
   ],
   "source": [
    "results=[]\n",
    "Y=y_val\n",
    "print (Y.shape)    \n",
    "for param in [\"acc\", \"auc\", \"recall\", \"precision\",\"fmeasure\"]:\n",
    "    if param == 'acc':\n",
    "        results.append(accuracy_score(Y, np.round(avg_prediction)))\n",
    "    if param == \"auc\":\n",
    "        results.append(roc_auc_score(Y, avg_prediction))\n",
    "    if param == \"recall\":\n",
    "        results.append(recall_score(Y, np.round(avg_prediction)))\n",
    "    if param == \"precision\":\n",
    "        results.append(precision_score(Y, np.round(avg_prediction)))\n",
    "    if param == \"fmeasure\":\n",
    "        precision = precision_score(Y, np.round(avg_prediction))\n",
    "        recall = recall_score(Y, np.round(avg_prediction))\n",
    "        results.append(2*precision*recall/ (precision+recall))\n",
    "print ('Ensemble Result',results)"
   ]
  },
  {
   "cell_type": "code",
   "execution_count": null,
   "metadata": {
    "collapsed": true
   },
   "outputs": [],
   "source": []
  },
  {
   "cell_type": "code",
   "execution_count": 27,
   "metadata": {},
   "outputs": [],
   "source": [
    "### ENSEMBLE TEST RESULT"
   ]
  },
  {
   "cell_type": "code",
   "execution_count": 28,
   "metadata": {},
   "outputs": [
    {
     "name": "stdout",
     "output_type": "stream",
     "text": [
      "(1200, 1)\n"
     ]
    }
   ],
   "source": [
    "############ FPOR TEST SET\n",
    "avg_pred=  (pred1 + pred2 + pred3 + pred4 + pred5) / 5\n",
    "print (avg_pred.shape)"
   ]
  },
  {
   "cell_type": "code",
   "execution_count": 29,
   "metadata": {},
   "outputs": [
    {
     "name": "stdout",
     "output_type": "stream",
     "text": [
      "(1200, 1)\n",
      "Ensemble Result [0.91249999999999998, 0.96440499999999996, 0.86499999999999999, 0.68924302788844627, 0.76718403547671843]\n"
     ]
    }
   ],
   "source": [
    "results_test=[]\n",
    "Y=y_test\n",
    "print (Y.shape)\n",
    "    \n",
    "for param in [\"acc\", \"auc\", \"recall\", \"precision\",\"fmeasure\"]:\n",
    "    if param == 'acc':\n",
    "        results_test.append(accuracy_score(Y, np.round(avg_pred)))\n",
    "    if param == \"auc\":\n",
    "        results_test.append(roc_auc_score(Y, avg_pred))\n",
    "    if param == \"recall\":\n",
    "        results_test.append(recall_score(Y, np.round(avg_pred)))\n",
    "    if param == \"precision\":\n",
    "        results_test.append(precision_score(Y, np.round(avg_pred)))\n",
    "    if param == \"fmeasure\":\n",
    "        precision = precision_score(Y, np.round(avg_pred))\n",
    "        recall = recall_score(Y, np.round(avg_pred))\n",
    "        results_test.append(2*precision*recall/ (precision+recall))\n",
    "print ('Ensemble Result',results_test)"
   ]
  },
  {
   "cell_type": "code",
   "execution_count": null,
   "metadata": {
    "collapsed": true
   },
   "outputs": [],
   "source": []
  },
  {
   "cell_type": "code",
   "execution_count": null,
   "metadata": {
    "collapsed": true
   },
   "outputs": [],
   "source": []
  },
  {
   "cell_type": "code",
   "execution_count": null,
   "metadata": {
    "collapsed": true
   },
   "outputs": [],
   "source": []
  }
 ],
 "metadata": {
  "kernelspec": {
   "display_name": "Python 3",
   "language": "python",
   "name": "python3"
  },
  "language_info": {
   "codemirror_mode": {
    "name": "ipython",
    "version": 3
   },
   "file_extension": ".py",
   "mimetype": "text/x-python",
   "name": "python",
   "nbconvert_exporter": "python",
   "pygments_lexer": "ipython3",
   "version": "3.6.3"
  }
 },
 "nbformat": 4,
 "nbformat_minor": 2
}
