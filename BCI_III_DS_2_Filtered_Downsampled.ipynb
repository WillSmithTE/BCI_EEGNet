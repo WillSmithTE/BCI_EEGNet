{
 "cells": [
  {
   "cell_type": "code",
   "execution_count": 1,
   "metadata": {
    "collapsed": true
   },
   "outputs": [],
   "source": [
    "import numpy as np\n",
    "from sklearn.metrics import roc_auc_score, precision_score, recall_score, accuracy_score\n",
    "import torch\n",
    "import torch.nn as nn\n",
    "import torch.optim as optim\n",
    "from torch.autograd import Variable\n",
    "import torch.nn.functional as F\n",
    "import torch.optim as optim\n",
    "import scipy"
   ]
  },
  {
   "cell_type": "code",
   "execution_count": 2,
   "metadata": {
    "collapsed": true
   },
   "outputs": [],
   "source": [
    "import scipy.io\n",
    "import matplotlib.pyplot as plt\n",
    "import random\n",
    "import scipy.signal"
   ]
  },
  {
   "cell_type": "markdown",
   "metadata": {},
   "source": [
    "<p>Here's the description from the paper</p>\n",
    "<img src=\"EEGNet.png\" style=\"width: 700px; float:left;\">"
   ]
  },
  {
   "cell_type": "code",
   "execution_count": 3,
   "metadata": {},
   "outputs": [
    {
     "name": "stdout",
     "output_type": "stream",
     "text": [
      "[['A', 'B', 'C', 'D', 'E', 'F'], ['G', 'H', 'I', 'J', 'K', 'L'], ['M', 'N', 'O', 'P', 'Q', 'R'], ['S', 'T', 'U', 'V', 'W', 'X'], ['Y', 'Z', '1', '2', '3', '4'], ['5', '6', '7', '8', '9', '_']]\n",
      "6\n"
     ]
    }
   ],
   "source": [
    "TRAIN_A = 'data/BCI_Comp_III_Wads_2004/Subject_A_Train1.mat'\n",
    "TRAIN_B = 'data/BCI_Comp_III_Wads_2004/Subject_B_Train1.mat'\n",
    "\n",
    "MATRIX = ['abcdef',\n",
    "          'ghijkl',\n",
    "          'mnopqr',\n",
    "          'stuvwx',\n",
    "          'yz1234',\n",
    "          '56789_']\n",
    "\n",
    "screen=[['A','B','C','D','E','F'],\n",
    "            ['G','H','I','J','K','L'],\n",
    "            ['M','N','O','P','Q','R'],\n",
    "            ['S','T','U','V','W','X'],\n",
    "            ['Y','Z','1','2','3','4'],\n",
    "            ['5','6','7','8','9','_']]\n",
    "\n",
    "print (screen)\n",
    "print (len(screen))"
   ]
  },
  {
   "cell_type": "code",
   "execution_count": 4,
   "metadata": {
    "collapsed": true
   },
   "outputs": [],
   "source": [
    "def load_dataset(SUBJECT,flag):\n",
    "    \n",
    "    data=scipy.io.loadmat(SUBJECT)\n",
    "    \n",
    "    #print ('Subject A dataa',data)\n",
    "    Signal=np.float32(data['Signal'])\n",
    "    #print ('signal',Signal, Signal.shape)\n",
    "\n",
    "    Flashing=np.float32(data['Flashing'])\n",
    "    #print ('flashing',Flashing, Flashing.shape)\n",
    "\n",
    "    StimulusCode=np.float32(data['StimulusCode'])\n",
    "    #print ('Stimulus COde',StimulusCode,StimulusCode.shape)\n",
    "    if flag==0:\n",
    "        StimulusType=np.float32(data['StimulusType'])\n",
    "        #print ('Stimulus type',StimulusType,StimulusType.shape)\n",
    "\n",
    "        Target=data['TargetChar']# array([ 'EAEVQTDOJG8RBRGONCEDHCTUIDBPUHMEM6OUXOCFOUKWA4VJEFRZROLHYNQDW_EKTLBWXEPOUIKZERYOOTHQI'],4\n",
    "        #print ('Target char for subjectA',Target)\n",
    "\n",
    "        return Signal,Flashing,StimulusCode,StimulusType,Target\n",
    "\n",
    "    else:\n",
    "         return Signal,Flashing,StimulusCode\n"
   ]
  },
  {
   "cell_type": "code",
   "execution_count": 5,
   "metadata": {},
   "outputs": [
    {
     "name": "stdout",
     "output_type": "stream",
     "text": [
      "Signal A shape (85, 7794, 64)\n"
     ]
    }
   ],
   "source": [
    "Signal_A_240,Flashing_A_240,StimulusCode_A_240,StimulusType_A_240,Target_A=load_dataset(TRAIN_A,0)\n",
    "print ('Signal A shape',Signal_A_240.shape)\n",
    "\n",
    "#############################################################################################\n",
    "Signal_B_240,Flashing_B_240,StimulusCode_B_240,StimulusType_B_240,Target_B=load_dataset(TRAIN_B,0)\n"
   ]
  },
  {
   "cell_type": "code",
   "execution_count": 6,
   "metadata": {},
   "outputs": [
    {
     "data": {
      "text/plain": [
       "array([ 'EAEVQTDOJG8RBRGONCEDHCTUIDBPUHMEM6OUXOCFOUKWA4VJEFRZROLHYNQDW_EKTLBWXEPOUIKZERYOOTHQI'],\n",
       "      dtype='<U85')"
      ]
     },
     "execution_count": 6,
     "metadata": {},
     "output_type": "execute_result"
    }
   ],
   "source": [
    "Target_A"
   ]
  },
  {
   "cell_type": "code",
   "execution_count": 7,
   "metadata": {
    "collapsed": true
   },
   "outputs": [],
   "source": [
    "## DOWNSAMPLING THE SIGNAL\n",
    "\n",
    "secs = Signal_A_240.shape[1]/240# Number of seconds in signal\n",
    "samps = int(secs*120)     # Number of samples to downsample\n",
    "\n",
    "Signal_A=np.zeros([Signal_A_240.shape[0],samps,64])\n",
    "Flashing_A=np.zeros([Signal_A_240.shape[0],samps])\n",
    "StimulusCode_A=np.zeros([Signal_A_240.shape[0],samps])\n",
    "StimulusType_A=np.zeros([Signal_A_240.shape[0],samps])\n",
    "\n",
    "Signal_B=np.zeros([Signal_B_240.shape[0],samps,64])\n",
    "Flashing_B=np.zeros([Signal_B_240.shape[0],samps])\n",
    "StimulusCode_B=np.zeros([Signal_B_240.shape[0],samps])\n",
    "StimulusType_B=np.zeros([Signal_B_240.shape[0],samps])\n",
    "\n",
    "\n",
    "for i in range(0,Signal_A_240.shape[0]):\n",
    "    Signal_A[i,:,:] = scipy.signal.resample(Signal_A_240[i,:,:], int(samps))\n",
    "    Signal_B[i,:,:] = scipy.signal.resample(Signal_B_240[i,:,:], int(samps))\n",
    "    #print (Flashing_A_240[i,:],Flashing_A_240[i,:].shape)\n",
    "    Flashing_A[i,:] = abs(np.round(scipy.signal.resample(Flashing_A_240[i,:], int(samps))))\n",
    "    #print (Flashing_A[i,:],Flashing_A[i,:].shape)\n",
    "    StimulusCode_A[i,:] = abs(np.floor(scipy.signal.resample(StimulusCode_A_240[i,:], int(samps)))).astype('int8')\n",
    "    #print (StimulusCode_A[i,:])\n",
    "    StimulusType_A[i,:] = abs(np.floor(scipy.signal.resample(StimulusType_A_240[i,:], int(samps))))\n",
    "    #print (StimulusType_A[i,:])\n",
    "    \n",
    "    Flashing_B[i,:] = abs(np.round(scipy.signal.resample(Flashing_B_240[i,:], int(samps))))\n",
    "    StimulusCode_B[i,:] = abs(np.floor(scipy.signal.resample(StimulusCode_B_240[i,:], int(samps))))\n",
    "    StimulusType_B[i,:] = abs(np.floor(scipy.signal.resample(StimulusType_B_240[i,:], int(samps))))\n",
    "    \n",
    "    "
   ]
  },
  {
   "cell_type": "code",
   "execution_count": 8,
   "metadata": {
    "collapsed": true
   },
   "outputs": [],
   "source": [
    "### DEFINE P300 WIndow size\n",
    "#  FOR downsampled frequency of 120 HZ reduce sizes by 2 everywhere\n",
    "window=int(48/2)   # take a window to get no of datapoints corresponding to 600 ms after onset of stimuli \n",
    "T=int(3*window)\n"
   ]
  },
  {
   "cell_type": "code",
   "execution_count": 9,
   "metadata": {
    "collapsed": true
   },
   "outputs": [],
   "source": [
    "train_char_size=Signal_A.shape[0]\n",
    "\n"
   ]
  },
  {
   "cell_type": "code",
   "execution_count": 10,
   "metadata": {
    "collapsed": true
   },
   "outputs": [],
   "source": [
    "#Split training into hold and validation\n",
    "def create_subset(NtrainIm,NtrainL):\n",
    "\n",
    "    #Creating a hold out set and remaining set out of the new training set..\n",
    "    NtrainIm_hold = []\n",
    "    NtrainL_hold = []\n",
    "    NtrainIm_rem = []\n",
    "    NtrainL_rem = []\n",
    "    #print(int(len(NtrainIm)/10))\n",
    "    Random = random.sample(range(0, NtrainIm.shape[0]), np.int(0.12*NtrainIm.shape[0]))\n",
    "    for k in range(0,NtrainIm.shape[0]):\n",
    "        if k in Random:\n",
    "            NtrainIm_hold.append(NtrainIm[k,:])\n",
    "            NtrainL_hold.append(NtrainL[k])\n",
    "        else:\n",
    "            NtrainIm_rem.append(NtrainIm[k,:])\n",
    "            NtrainL_rem.append(NtrainL[k])\n",
    "    NtrainIm_hold = np.array(NtrainIm_hold)\n",
    "    NtrainL_hold = np.array(NtrainL_hold)\n",
    "    NtrainIm_rem = np.array(NtrainIm_rem)\n",
    "    NtrainL_rem = np.array(NtrainL_rem)\n",
    "    \n",
    "    return np.array(NtrainIm_rem),np.array(NtrainIm_hold),np.array(NtrainL_rem),np.array(NtrainL_hold)\n",
    "    \n",
    "\n",
    "def format_data(Signal,Flashing,StimulusCode,StimulusType,Target):\n",
    "    \n",
    "    char_size=Signal.shape[0]\n",
    "    responses=np.zeros([char_size,12,15,T,64])\n",
    "    \n",
    "    for epoch in range(0,Signal.shape[0]):\n",
    "        count=1;\n",
    "        rowcolcnt=np.zeros(12)\n",
    "        for n in range(1,Signal.shape[1]):\n",
    "            # detect location of sample immediately after the stimuli\n",
    "            if Flashing[epoch,n]==0 and Flashing[epoch,n-1]==1:\n",
    "                rowcol=int(StimulusCode[epoch,n-1])-1\n",
    "                #print (Signal[epoch,n:n+window,:].shape)\n",
    "               # print (rowcolcnt[int(rowcol)])\n",
    "                \n",
    "                responses[epoch,int(rowcol),int(rowcolcnt[int(rowcol)]),:,:]=Signal[epoch,n-int(window/2):n+ int(2.5*window),:]\n",
    "                rowcolcnt[rowcol]=rowcolcnt[rowcol]+1\n",
    "                #print (rowcolcnt)\n",
    "        #print (epoch)\n",
    "    print ('Response for all characters',responses.shape)\n",
    "\n",
    "    #####################################################################################################################\n",
    "    ### Taking average over 15 instances of the 12 stimuli, comment to check performance and increase the dataset size- TO DO\n",
    "    trainset=np.mean(responses, axis=2)\n",
    "    print ('trainset',trainset.shape)\n",
    "    \n",
    "    #####################################################################################################################\n",
    "    #target_ohe=np.zeros([len(Target[0]),36])\n",
    "    stimulus_indices=[]\n",
    "    for n_char in range(0,len(Target[0])):  #character epochs\n",
    "\n",
    "        #print (Target[0][n_char])\n",
    "        #vv=np.where(screen==str(Target[0][n_char]))\n",
    "        #print (vv)\n",
    "        #[row,col]\n",
    "        for row in range(0,6):\n",
    "            for col in range(0,6):\n",
    "                #print (screen[row][col])\n",
    "                if (Target[0][n_char]) is (screen[row][col]):\n",
    "                    ind=[row+7,col+1]\n",
    "                    stimulus_indices.append(ind)\n",
    "                    #print (ind)\n",
    "    #print (len(stimulus_indices))\n",
    "    print ('Splitting P300 and non-P300 dataset...')\n",
    "    # iterate over the 2nd dimension of trainset:trainset (train_char_size, 12, 42, 64) and split as train_char_size*2*42*64 and train_char_size*10*42*64\n",
    "    \n",
    "    P300_dataset=np.zeros([train_char_size,2,T,64])\n",
    "    non_P300_dataset=np.zeros([train_char_size,10,T,64])\n",
    "\n",
    "    for char_epoch in range(0,trainset.shape[0]):\n",
    "        # choose the i,j out of the 2nd dimension of trainset where i,j comes from stimulus_indices[char_epoch]\n",
    "        ind_1=stimulus_indices[char_epoch][0]\n",
    "        ind_2=stimulus_indices[char_epoch][1]\n",
    "        #print (ind_1,ind_2)\n",
    "        l=0\n",
    "        for index in range(0,12):\n",
    "            if index==ind_1-1 or index==ind_2-1 :\n",
    "                P300_dataset[char_epoch,0,:,:]=trainset[char_epoch,ind_1-1,:,:]\n",
    "                P300_dataset[char_epoch,1,:,:]=trainset[char_epoch,ind_2-1,:,:]\n",
    "\n",
    "\n",
    "            else:\n",
    "                #print ('here')\n",
    "                #print (index)\n",
    "                non_P300_dataset[char_epoch,l,:,:]=trainset[char_epoch,index,:,:]\n",
    "               # targets_A[char_epoch,index]=0\n",
    "\n",
    "                l=l+1\n",
    "\n",
    "    #print (np.all(P300_dataset[0,0,:,:])==np.all(trainset[0,5,:,:]))\n",
    "    print (P300_dataset.shape)\n",
    "    print (non_P300_dataset.shape)\n",
    "    #85, 2, 128, 64)\n",
    "    #(85, 10, 128, 64)\n",
    "    '''\n",
    "    for p in range(0,2):\n",
    "        print ('next P300')\n",
    "        for n_p in range(0,10):\n",
    "            plt.figure()\n",
    "            #plt.subplot(121)\n",
    "            plt.plot(P300_dataset[4,p,:,5].T)\n",
    "            #plt.figure()\n",
    "            #plt.subplot(122)\n",
    "            plt.plot(non_P300_dataset[4,n_p,:,5].T)\n",
    "            plt.show()  \n",
    "    '''\n",
    "    return P300_dataset,non_P300_dataset\n",
    "\n",
    "##\n"
   ]
  },
  {
   "cell_type": "code",
   "execution_count": 11,
   "metadata": {
    "scrolled": true
   },
   "outputs": [
    {
     "name": "stdout",
     "output_type": "stream",
     "text": [
      "For subject A\n",
      "Response for all characters (85, 12, 15, 72, 64)\n",
      "trainset (85, 12, 72, 64)\n",
      "Splitting P300 and non-P300 dataset...\n",
      "(85, 2, 72, 64)\n",
      "(85, 10, 72, 64)\n",
      "-----------------------------------------------------------------------------------------------------------\n",
      "Training set of P300 samples\n",
      "(150, 72, 64) (150, 1)\n",
      "\n",
      "Validation set of P300 samples\n",
      "(20, 72, 64) (20, 1)\n",
      "\n",
      "Training set of non-P300 samples\n",
      "(748, 72, 64) (748, 1)\n",
      "\n",
      "Validation set of non- P300 samples\n",
      "(102, 72, 64) (102, 1)\n",
      "-----------------------------------------------------------------------------------------------------------\n",
      "-----------------------------------------------------------------------------------------------------------\n"
     ]
    }
   ],
   "source": [
    "## TO DO :\n",
    "### REPEAT CODE IN THIS CELL FOR TRAINING SUBJECT B, ignore variables named as A for now\n",
    "\n",
    "# this for loop is jsut for printing, either make a function or copy paste to get B data\n",
    "\n",
    "\n",
    "subject = '0'#raw_input('Enter subject you want to train(A: 0 or B:1 ):  ')    \n",
    "if subject=='0':\n",
    "    print ('For subject A')\n",
    "    P300_dataset_,non_P300_dataset_=format_data(Signal_A,Flashing_A,StimulusCode_A,StimulusType_A,Target_A)\n",
    "else:\n",
    "    print ('For subject B')\n",
    "    P300_dataset_,non_P300_dataset_=format_data(Signal_B,Flashing_B,StimulusCode_B,StimulusType_B,Target_B)\n",
    "\n",
    "\n",
    "    \n",
    "targets_=np.zeros([train_char_size*15,12])\n",
    "targets_[:,0:2]=1 ; targets_[:,2:12]=0\n",
    "\n",
    "\n",
    "## Create training and validation subset\n",
    "P300_train_,P300_hold_, P300_train_label_, P300_hold_label_=create_subset(np.reshape(P300_dataset_,[train_char_size*2,T,64]),np.reshape(targets_[:,0:2],[train_char_size*2*15,1]))\n",
    "\n",
    "non_P300_train_,non_P300_hold_, non_P300_train_label_, non_P300_hold_label_=create_subset(np.reshape(non_P300_dataset_,[train_char_size*10,T,64]),np.reshape(targets_[:,2:12],[train_char_size*10*15,1]))\n",
    "print('-----------------------------------------------------------------------------------------------------------')\n",
    "\n",
    "print ('Training set of P300 samples')\n",
    "print (P300_train_.shape,P300_train_label_.shape)   \n",
    "\n",
    "print ('\\nValidation set of P300 samples')\n",
    "print (P300_hold_.shape,P300_hold_label_.shape)   \n",
    "\n",
    "print ('\\nTraining set of non-P300 samples')\n",
    "print (non_P300_train_.shape,non_P300_train_label_.shape)  \n",
    "\n",
    "print ('\\nValidation set of non- P300 samples')\n",
    "print (non_P300_hold_.shape,non_P300_hold_label_.shape) \n",
    "\n",
    "print('-----------------------------------------------------------------------------------------------------------')\n",
    "print('-----------------------------------------------------------------------------------------------------------')\n",
    "\n"
   ]
  },
  {
   "cell_type": "code",
   "execution_count": null,
   "metadata": {
    "collapsed": true
   },
   "outputs": [],
   "source": []
  },
  {
   "cell_type": "code",
   "execution_count": null,
   "metadata": {
    "collapsed": true
   },
   "outputs": [],
   "source": []
  },
  {
   "cell_type": "code",
   "execution_count": 12,
   "metadata": {},
   "outputs": [
    {
     "name": "stdout",
     "output_type": "stream",
     "text": [
      "0 150 0 20\n",
      "-------------------------HOLD AND TRAIN DATASET_CNN READY----------------------------------------------\n",
      "(40, 72, 64) (40, 1)\n",
      "(300, 72, 64) (300, 1)\n",
      "--------------------------------------------------------------------------------------------------------\n",
      "150 300 20 40\n",
      "-------------------------HOLD AND TRAIN DATASET_CNN READY----------------------------------------------\n",
      "(40, 72, 64) (40, 1)\n",
      "(300, 72, 64) (300, 1)\n",
      "--------------------------------------------------------------------------------------------------------\n",
      "300 450 40 60\n",
      "-------------------------HOLD AND TRAIN DATASET_CNN READY----------------------------------------------\n",
      "(40, 72, 64) (40, 1)\n",
      "(300, 72, 64) (300, 1)\n",
      "--------------------------------------------------------------------------------------------------------\n",
      "450 600 60 80\n",
      "-------------------------HOLD AND TRAIN DATASET_CNN READY----------------------------------------------\n",
      "(40, 72, 64) (40, 1)\n",
      "(300, 72, 64) (300, 1)\n",
      "--------------------------------------------------------------------------------------------------------\n",
      "600 748 80 102\n",
      "-------------------------HOLD AND TRAIN DATASET_CNN READY----------------------------------------------\n",
      "(42, 72, 64) (42, 1)\n",
      "(298, 72, 64) (298, 1)\n",
      "--------------------------------------------------------------------------------------------------------\n"
     ]
    }
   ],
   "source": [
    "def shuffle(trainIm_rem,trainL_rem): \n",
    "    \n",
    "    \n",
    "    NtrainIm_hold = []\n",
    "    NtrainL_hold = []\n",
    "  \n",
    "    R = random.sample(range(0, trainIm_rem.shape[0]),trainIm_rem.shape[0])\n",
    "\n",
    "    for k in R:\n",
    "        #print (k)\n",
    "        NtrainIm_hold.append(trainIm_rem[k,:,:])\n",
    "        NtrainL_hold.append(trainL_rem[k,:])\n",
    "    \n",
    "    return np.array(NtrainIm_hold),np.array(NtrainL_hold)\n",
    "\n",
    "# AGAIN IGNORE THE NAMING CONVENTION WHICH IS BY DEFAULT A\n",
    "def choose_subsection_non_P300(a,b,c,d,P300_train,non_P300_train,P300_hold,non_P300_hold ):\n",
    "        \n",
    "        print (a,b,c,d)\n",
    "        t1 = 2 * P300_train.shape[0]  # + non_P300_train_A.shape[0] #909\n",
    "       \n",
    "        t2 = P300_train.shape[0] #152\n",
    "        \n",
    "        if b == non_P300_train.shape[0] :\n",
    "            t1=t1-2\n",
    "            \n",
    "        dataset_A_train=np.zeros([t1,T,64])\n",
    "        dataset_A_train[0:t2,:,:]=P300_train\n",
    "       \n",
    "        dataset_A_train[t2:t1,:,:]=non_P300_train[a:b,:,:]\n",
    "\n",
    "        targets_A_train=np.zeros([t1,1])\n",
    "        targets_A_train[0:t2,:]=1\n",
    "\n",
    "        h1 = 2 * P300_hold.shape[0] #+ non_P300_hold_label_A.shape[0] #111\n",
    "        h2 = P300_hold.shape[0] #18\n",
    "             \n",
    "        if d == non_P300_hold.shape[0] :\n",
    "            h1=h1 + 2\n",
    "       \n",
    "            \n",
    "        dataset_A_hold=np.zeros([h1,T,64])\n",
    "        dataset_A_hold[0:h2,:,:]=P300_hold\n",
    "        \n",
    "        dataset_A_hold[h2:h1:,:]=non_P300_hold[c:d,:,:]\n",
    "        targets_A_hold=np.zeros([h1,1])\n",
    "        targets_A_hold[0:h2,:]=1\n",
    "        \n",
    "        \n",
    "        #print(targets_A_hold.shape)\n",
    "\n",
    "        ### SHUFFLE ABOVE DATASET and LABELS\n",
    "        print ('-------------------------HOLD AND TRAIN DATASET_CNN READY----------------------------------------------')\n",
    "        dataset_A_hold,targets_A_hold=shuffle(dataset_A_hold,targets_A_hold)\n",
    "        print (dataset_A_hold.shape,targets_A_hold.shape)\n",
    "\n",
    "        dataset_A_train,targets_A_train=shuffle(dataset_A_train,targets_A_train)\n",
    "        print (dataset_A_train.shape,targets_A_train.shape)\n",
    "        print ('--------------------------------------------------------------------------------------------------------')\n",
    "        ################################\n",
    "\n",
    "        return dataset_A_train,targets_A_train,dataset_A_hold,targets_A_hold \n",
    "    \n",
    "def create_balanced_dataset(P300_train_A,non_P300_train_A,P300_hold_A,non_P300_hold_A):\n",
    "\n",
    "    #######################################################\n",
    "    #Combine the dataset:\n",
    "    # Part 1: \n",
    "    a=0;b=int(np.ceil(non_P300_train_A.shape[0]/5));    c=0;d=int(non_P300_hold_A.shape[0]/5)\n",
    "    dataset_A_train_1,targets_A_train_1,dataset_A_hold_1,targets_A_hold_1 = choose_subsection_non_P300(a,b,c,d,P300_train_A,non_P300_train_A,P300_hold_A,non_P300_hold_A)\n",
    "     \n",
    "    # Part 2: \n",
    "    a=int(np.ceil(non_P300_train_A.shape[0]/5));b=2 *int(np.ceil(non_P300_train_A.shape[0]/5))\n",
    "    c=int(non_P300_hold_A.shape[0]/5); d= 2* int(non_P300_hold_A.shape[0]/5)\n",
    "    dataset_A_train_2,targets_A_train_2,dataset_A_hold_2,targets_A_hold_2 = choose_subsection_non_P300(a,b,c,d,P300_train_A,non_P300_train_A,P300_hold_A,non_P300_hold_A)\n",
    "  \n",
    "    # Part 3: \n",
    "    a=2 * int(np.ceil(non_P300_train_A.shape[0]/5));b=3 *int(np.ceil(non_P300_train_A.shape[0]/5))\n",
    "    c=2 * int(non_P300_hold_A.shape[0]/5); d= 3* int(non_P300_hold_A.shape[0]/5)\n",
    "    dataset_A_train_3,targets_A_train_3,dataset_A_hold_3,targets_A_hold_3 = choose_subsection_non_P300(a,b,c,d,P300_train_A,non_P300_train_A,P300_hold_A,non_P300_hold_A)\n",
    "  \n",
    "    # Part 4: \n",
    "    a=3 * int(np.ceil(non_P300_train_A.shape[0]/5));b=4 *int(np.ceil(non_P300_train_A.shape[0]/5))\n",
    "    c=3 * int(non_P300_hold_A.shape[0]/5); d= 4* int(non_P300_hold_A.shape[0]/5)\n",
    "    dataset_A_train_4,targets_A_train_4,dataset_A_hold_4,targets_A_hold_4 = choose_subsection_non_P300(a,b,c,d,P300_train_A,non_P300_train_A,P300_hold_A,non_P300_hold_A)\n",
    "  \n",
    "    # Part 5: \n",
    "    a=4 * int(np.ceil(non_P300_train_A.shape[0]/5));b=5 *int(np.ceil(non_P300_train_A.shape[0]/5)) - 2\n",
    "    c=4 * int(non_P300_hold_A.shape[0]/5); d= 5* int(non_P300_hold_A.shape[0]/5) +2 \n",
    "    dataset_A_train_5,targets_A_train_5,dataset_A_hold_5,targets_A_hold_5 = choose_subsection_non_P300(a,b,c,d,P300_train_A,non_P300_train_A,P300_hold_A,non_P300_hold_A)\n",
    "  \n",
    "    return dataset_A_train_1,targets_A_train_1,dataset_A_hold_1,targets_A_hold_1,dataset_A_train_2,targets_A_train_2,dataset_A_hold_2,targets_A_hold_2 ,dataset_A_train_3,targets_A_train_3,dataset_A_hold_3,targets_A_hold_3,dataset_A_train_4,targets_A_train_4,dataset_A_hold_4,targets_A_hold_4,dataset_A_train_5,targets_A_train_5,dataset_A_hold_5,targets_A_hold_5\n",
    "    \n",
    "\n",
    "dataset_A_train_1,targets_A_train_1,dataset_A_hold_1,targets_A_hold_1,dataset_A_train_2,targets_A_train_2,dataset_A_hold_2,targets_A_hold_2,dataset_A_train_3,targets_A_train_3,dataset_A_hold_3,targets_A_hold_3,dataset_A_train_4,targets_A_train_4,dataset_A_hold_4,targets_A_hold_4,dataset_A_train_5,targets_A_train_5,dataset_A_hold_5,targets_A_hold_5 = create_balanced_dataset(P300_train_,non_P300_train_,P300_hold_,non_P300_hold_)\n",
    "\n",
    "#dataset_B_train,targets_B_train,dataset_B_hold,targets_B_hold; use if subject B is used to calculate P300_train_ etc.  \n",
    "    \n"
   ]
  },
  {
   "cell_type": "code",
   "execution_count": null,
   "metadata": {
    "collapsed": true
   },
   "outputs": [],
   "source": []
  },
  {
   "cell_type": "code",
   "execution_count": null,
   "metadata": {
    "collapsed": true
   },
   "outputs": [],
   "source": []
  },
  {
   "cell_type": "code",
   "execution_count": 13,
   "metadata": {
    "collapsed": true
   },
   "outputs": [],
   "source": [
    "class EEGNet(nn.Module):\n",
    "    def __init__(self):\n",
    "        super(EEGNet, self).__init__()\n",
    "        self.T = 120\n",
    "        \n",
    "        # Layer 1\n",
    "        self.conv1 = nn.Conv2d(1, 16, (1,64), padding = 0)\n",
    "        self.batchnorm1 = nn.BatchNorm2d(16, False)\n",
    "        \n",
    "        # Layer 2\n",
    "        self.padding1 = nn.ZeroPad2d((16, 17, 0, 1))\n",
    "        self.conv2 = nn.Conv2d(1, 4, (2, 32))\n",
    "        self.batchnorm2 = nn.BatchNorm2d(4, False)\n",
    "        self.pooling2 = nn.MaxPool2d(2, 4)\n",
    "        \n",
    "        # Layer 3\n",
    "        self.padding2 = nn.ZeroPad2d((2, 1, 4, 3))\n",
    "        self.conv3 = nn.Conv2d(4, 4, (8, 4))\n",
    "        self.batchnorm3 = nn.BatchNorm2d(4, False)\n",
    "        self.pooling3 = nn.MaxPool2d((2, 4))\n",
    "        \n",
    "        # FC Layer\n",
    "        # NOTE: This dimension will depend on the number of timestamps per sample in your data.\n",
    "        # I have 144 timepoints. \n",
    "        #4, 2, 487\n",
    "        self.fc1 = nn.Linear(4*2*4, 1)\n",
    "        \n",
    "\n",
    "    def forward(self, x):\n",
    "        # Layer 1\n",
    "      #  x = x.double()\n",
    "        x = F.elu(self.conv1(x))\n",
    "        x = self.batchnorm1(x)\n",
    "       # x = F.dropout(x, 0.25)\n",
    "        x = x.permute(0, 3, 1, 2)\n",
    "        \n",
    "        # Layer 2\n",
    "        x = self.padding1(x)\n",
    "        x = F.elu(self.conv2(x))\n",
    "        x = self.batchnorm2(x)\n",
    "       # x = F.dropout(x, 0.25)\n",
    "        x = self.pooling2(x)\n",
    "        \n",
    "        # Layer 3\n",
    "        x = self.padding2(x)\n",
    "        x = F.elu(self.conv3(x))\n",
    "        x = self.batchnorm3(x)\n",
    "       # x = F.dropout(x, 0.25)\n",
    "        x = self.pooling3(x)\n",
    "        #print (x.size())\n",
    "        # FC Layer\n",
    "        x = x.view(-1, 4*2*4) # for T=128\n",
    "        x = F.sigmoid(self.fc1(x))\n",
    "        return x\n",
    "\n",
    "\n",
    "net = EEGNet()#.cuda(0)\n",
    "#print (net.forward(Variable(torch.Tensor(np.random.rand(1, 1, 120, 64)))))#.cuda(0))))\n",
    "criterion = nn.BCELoss()\n",
    "optimizer = optim.Adam(net.parameters())"
   ]
  },
  {
   "cell_type": "code",
   "execution_count": 14,
   "metadata": {
    "collapsed": true
   },
   "outputs": [],
   "source": [
    "def train(epoch,X_train1,y_train1):\n",
    "        running_loss=0.0\n",
    "        # Mini batch training\n",
    "        print ('BS',batch_size)\n",
    "        for i in range(0,len(X_train1),batch_size):       \n",
    "            #print ('Epocj,mini-batch',epoch,i)\n",
    "            inputs = torch.from_numpy(X_train1[i:i+batch_size])\n",
    "            labels = torch.FloatTensor(y_train1[i:i+batch_size]*1.0)\n",
    "\n",
    "           # print (labels.size())\n",
    "            # wrap them in Variable\n",
    "            #inputs, labels = Variable(inputs.cuda(0)), Variable(labels.cuda(0))\n",
    "            inputs, labels = Variable(inputs), Variable(labels)\n",
    "\n",
    "            # zero the parameter gradients\n",
    "            optimizer.zero_grad()\n",
    "\n",
    "            # forward + backward + optimize\n",
    "            outputs = net(inputs)\n",
    "            #print ('op',outputs.size())\n",
    "            #print('labels',labels.size())\n",
    "            loss = criterion(outputs, labels)\n",
    "            loss.backward()\n",
    "\n",
    "            optimizer.step()\n",
    "\n",
    "            running_loss += loss.data[0]\n",
    "             # for graphing puposes\n",
    "            running_loss_array.append(loss.data[0])\n",
    "        \n",
    "        \n",
    "            #print the current status of training\n",
    "            #if(i % 128 == 0):\n",
    "             #   print('Train Epoch',epoch,'Mini batch:',i, '\\tLoss',loss.data[0])\n",
    "\n",
    "        return running_loss_array\n"
   ]
  },
  {
   "cell_type": "code",
   "execution_count": 15,
   "metadata": {
    "collapsed": true
   },
   "outputs": [],
   "source": [
    "####  for validation and testing \n",
    "def valid(net,epoch,X_val1,y_val1):\n",
    "    \n",
    "    predicted_loss=[]\n",
    "   \n",
    "    inputs = torch.from_numpy(X_val1)\n",
    "    labels = torch.FloatTensor(y_val1*1.0)\n",
    "\n",
    "    inputs, labels = Variable(inputs), Variable(labels)\n",
    "\n",
    "    '''\n",
    "    output = net(data)\n",
    "    valid_loss = valid_loss + F.nll_loss(output, target, size_average=False).data[0] \n",
    "    pred = output.data.max(1, keepdim=True)[1]\n",
    "    correct = correct + pred.eq(target.data.view_as(pred)).cpu().sum() \n",
    "    '''\n",
    "    ########################        \n",
    "    results = []\n",
    "   \n",
    "    predicted = []\n",
    "   \n",
    "    #inputs = Variable(torch.from_numpy(X_val1))#.cuda(0))\n",
    "    predicted = net(inputs)\n",
    "\n",
    "    predicted = predicted.data.cpu().numpy()\n",
    "    #from sklearn.metrics import roc_auc_score, precision_score, recall_score, accuracy_score\n",
    "   # print ('predicted',predicted.shape)\n",
    "    #print ('predicted',predicted)\n",
    "    Y=labels.data.numpy()\n",
    "   # print ('Y',Y)\n",
    "    for param in [\"acc\", \"auc\", \"recall\", \"precision\",\"fmeasure\"]:\n",
    "        if param == 'acc':\n",
    "            results.append(accuracy_score(Y, np.round(predicted)))\n",
    "        if param == \"auc\":\n",
    "            results.append(roc_auc_score(Y, predicted))\n",
    "        if param == \"recall\":\n",
    "            results.append(recall_score(Y, np.round(predicted)))\n",
    "        if param == \"precision\":\n",
    "            results.append(precision_score(Y, np.round(predicted)))\n",
    "        if param == \"fmeasure\":\n",
    "            precision = precision_score(Y, np.round(predicted))\n",
    "            recall = recall_score(Y, np.round(predicted))\n",
    "            results.append(2*precision*recall/ (precision+recall))\n",
    "     \n",
    "   # print (len(results))\n",
    "    return predicted, results #validation_loss_array\n"
   ]
  },
  {
   "cell_type": "code",
   "execution_count": 16,
   "metadata": {
    "collapsed": true
   },
   "outputs": [],
   "source": [
    "batch_size= 4\n",
    "Epochs=12"
   ]
  },
  {
   "cell_type": "code",
   "execution_count": 17,
   "metadata": {
    "collapsed": true
   },
   "outputs": [],
   "source": [
    "dataset_test=scipy.io.loadmat('test_set_A_d_proc.mat')['data']\n",
    "targets_test=scipy.io.loadmat('true_labels_A_d_proc.mat')['labels']"
   ]
  },
  {
   "cell_type": "code",
   "execution_count": null,
   "metadata": {
    "collapsed": true
   },
   "outputs": [],
   "source": []
  },
  {
   "cell_type": "code",
   "execution_count": 18,
   "metadata": {
    "scrolled": true
   },
   "outputs": [
    {
     "name": "stdout",
     "output_type": "stream",
     "text": [
      "(300, 1, 72, 64)\n",
      "-------------\n",
      "(300, 1)\n",
      "------------------------------\n",
      "(40, 1, 72, 64)\n",
      "-------------\n",
      "(40, 1)\n",
      "\n",
      "Epoch  0\n",
      "BS 4\n",
      "Parameters:[\"acc\", \"auc\", \"recall\", \"precision\",\"fmeasure\"]\n",
      "validation_results [0.77500000000000002, 0.81750000000000012, 0.84999999999999998, 0.73913043478260865, 0.79069767441860461]\n",
      "test_results [0.65249999999999997, 0.80456250000000007, 0.80500000000000005, 0.29870129870129869, 0.43572395128552088]\n",
      "\n",
      "Epoch  1\n",
      "BS 4\n",
      "Parameters:[\"acc\", \"auc\", \"recall\", \"precision\",\"fmeasure\"]\n",
      "validation_results [0.77500000000000002, 0.87250000000000005, 0.90000000000000002, 0.71999999999999997, 0.79999999999999993]\n",
      "test_results [0.66083333333333338, 0.88625000000000009, 0.90000000000000002, 0.31746031746031744, 0.46936114732724893]\n",
      "\n",
      "Epoch  2\n",
      "BS 4\n",
      "Parameters:[\"acc\", \"auc\", \"recall\", \"precision\",\"fmeasure\"]\n",
      "validation_results [0.77500000000000002, 0.90000000000000002, 0.90000000000000002, 0.71999999999999997, 0.79999999999999993]\n",
      "test_results [0.73250000000000004, 0.91776999999999997, 0.90500000000000003, 0.37474120082815737, 0.53001464128843345]\n",
      "\n",
      "Epoch  3\n",
      "BS 4\n",
      "Parameters:[\"acc\", \"auc\", \"recall\", \"precision\",\"fmeasure\"]\n",
      "validation_results [0.80000000000000004, 0.90000000000000013, 0.90000000000000002, 0.75, 0.81818181818181823]\n",
      "test_results [0.75083333333333335, 0.92949999999999999, 0.90500000000000003, 0.3926247288503254, 0.54765506807866882]\n",
      "\n",
      "Epoch  4\n",
      "BS 4\n",
      "Parameters:[\"acc\", \"auc\", \"recall\", \"precision\",\"fmeasure\"]\n",
      "validation_results [0.82499999999999996, 0.90000000000000013, 0.90000000000000002, 0.78260869565217395, 0.83720930232558144]\n",
      "test_results [0.77749999999999997, 0.93559999999999999, 0.92500000000000004, 0.42334096109839819, 0.58084772370486659]\n",
      "\n",
      "Epoch  5\n",
      "BS 4\n",
      "Parameters:[\"acc\", \"auc\", \"recall\", \"precision\",\"fmeasure\"]\n",
      "validation_results [0.84999999999999998, 0.90250000000000008, 0.90000000000000002, 0.81818181818181823, 0.85714285714285721]\n",
      "test_results [0.79166666666666663, 0.9395, 0.93000000000000005, 0.44075829383886256, 0.59807073954983925]\n",
      "\n",
      "Epoch  6\n",
      "BS 4\n",
      "Parameters:[\"acc\", \"auc\", \"recall\", \"precision\",\"fmeasure\"]\n",
      "validation_results [0.84999999999999998, 0.89749999999999996, 0.90000000000000002, 0.81818181818181823, 0.85714285714285721]\n",
      "test_results [0.79500000000000004, 0.94230499999999995, 0.92500000000000004, 0.44471153846153844, 0.60064935064935054]\n",
      "\n",
      "Epoch  7\n",
      "BS 4\n",
      "Parameters:[\"acc\", \"auc\", \"recall\", \"precision\",\"fmeasure\"]\n",
      "validation_results [0.84999999999999998, 0.89749999999999996, 0.90000000000000002, 0.81818181818181823, 0.85714285714285721]\n",
      "test_results [0.80333333333333334, 0.94359499999999996, 0.93000000000000005, 0.45588235294117646, 0.61184210526315785]\n",
      "\n",
      "Epoch  8\n",
      "BS 4\n",
      "Parameters:[\"acc\", \"auc\", \"recall\", \"precision\",\"fmeasure\"]\n",
      "validation_results [0.84999999999999998, 0.89750000000000019, 0.90000000000000002, 0.81818181818181823, 0.85714285714285721]\n",
      "test_results [0.8125, 0.94412499999999999, 0.93000000000000005, 0.46851385390428213, 0.62311557788944716]\n",
      "\n",
      "Epoch  9\n",
      "BS 4\n",
      "Parameters:[\"acc\", \"auc\", \"recall\", \"precision\",\"fmeasure\"]\n",
      "validation_results [0.84999999999999998, 0.90749999999999997, 0.90000000000000002, 0.81818181818181823, 0.85714285714285721]\n",
      "test_results [0.82666666666666666, 0.94642999999999999, 0.93999999999999995, 0.48958333333333331, 0.64383561643835618]\n",
      "\n",
      "Epoch  10\n",
      "BS 4\n",
      "Parameters:[\"acc\", \"auc\", \"recall\", \"precision\",\"fmeasure\"]\n",
      "validation_results [0.84999999999999998, 0.89500000000000002, 0.90000000000000002, 0.81818181818181823, 0.85714285714285721]\n",
      "test_results [0.83666666666666667, 0.94600000000000006, 0.93500000000000005, 0.50540540540540535, 0.65614035087719291]\n",
      "\n",
      "Epoch  11\n",
      "BS 4\n",
      "Parameters:[\"acc\", \"auc\", \"recall\", \"precision\",\"fmeasure\"]\n",
      "validation_results [0.84999999999999998, 0.89500000000000002, 0.90000000000000002, 0.81818181818181823, 0.85714285714285721]\n",
      "test_results [0.83666666666666667, 0.94689000000000012, 0.93500000000000005, 0.50540540540540535, 0.65614035087719291]\n"
     ]
    },
    {
     "data": {
      "image/png": "[encoded data removed]",
      "text/plain": [
       "<matplotlib.figure.Figure at 0x1d3280f8e10>"
      ]
     },
     "metadata": {},
     "output_type": "display_data"
    }
   ],
   "source": [
    "############## CLASSIFIER I : \n",
    "\n",
    "#dataset_A_hold.shape,targets_A_hold.shape\n",
    "\n",
    "X_train = np.reshape(dataset_A_train_1,[dataset_A_train_1.shape[0],1,dataset_A_train_1.shape[1],dataset_A_train_1.shape[2]]).astype('float32')\n",
    "y_train = np.reshape(targets_A_train_1,[targets_A_train_1.shape[0],1]).astype('float32')\n",
    "\n",
    "X_val = np.reshape(dataset_A_hold_1,[dataset_A_hold_1.shape[0],1,dataset_A_hold_1.shape[1],dataset_A_hold_1.shape[2]]).astype('float32') \n",
    "y_val = np.reshape(targets_A_hold_1,[targets_A_hold_1.shape[0],1]).astype('float32')\n",
    "\n",
    "X_test = np.reshape(dataset_test,[dataset_test.shape[0],1,dataset_test.shape[1],dataset_test.shape[2]]).astype('float32')  #np.random.rand(100*12,1, 42, 64).astype('float32')\n",
    "y_test = np.reshape(targets_test,[targets_test.shape[0],1]).astype('float32')\n",
    "\n",
    "\n",
    "print (X_train.shape)\n",
    "\n",
    "print ('-------------')\n",
    "print (y_train.shape)\n",
    "\n",
    "print('------------------------------')\n",
    "print (X_val.shape)\n",
    "\n",
    "print ('-------------')\n",
    "print (y_val.shape)\n",
    "\n",
    "\n",
    "\n",
    "\n",
    "running_loss_array=[]\n",
    "\n",
    "for epoch in range(Epochs):  # loop over the dataset multiple times\n",
    "    \n",
    "    print (\"\\nEpoch \", epoch)\n",
    "   # print ('range',int(len(X_train)/batch_size-1))\n",
    "    train_loss=train(epoch,X_train,y_train)\n",
    "    prediction1, valid_results=valid(net,epoch,X_val,y_val)\n",
    "    pred1, test_results=valid(net,epoch,X_test,y_test)\n",
    "    print ('Parameters:[\"acc\", \"auc\", \"recall\", \"precision\",\"fmeasure\"]')\n",
    "    print ('validation_results',valid_results)\n",
    "    print ('test_results',test_results)\n",
    "   #plot loss\n",
    "plt.plot(train_loss)\n",
    "plt.ylabel('loss')\n",
    "plt.xlabel('iterations')\n",
    "plt.show()"
   ]
  },
  {
   "cell_type": "code",
   "execution_count": 19,
   "metadata": {
    "scrolled": true
   },
   "outputs": [
    {
     "name": "stdout",
     "output_type": "stream",
     "text": [
      "(300, 1, 72, 64)\n",
      "-------------\n",
      "(300, 1)\n",
      "------------------------------\n",
      "(40, 1, 72, 64)\n",
      "-------------\n",
      "(40, 1)\n",
      "\n",
      "Epoch  0\n",
      "BS 4\n",
      "Parameters:[\"acc\", \"auc\", \"recall\", \"precision\",\"fmeasure\"]\n",
      "validation_results [0.82499999999999996, 0.89500000000000002, 0.80000000000000004, 0.84210526315789469, 0.82051282051282048]\n",
      "test_results [0.91249999999999998, 0.95085500000000001, 0.84999999999999998, 0.69387755102040816, 0.7640449438202247]\n",
      "\n",
      "Epoch  1\n",
      "BS 4\n",
      "Parameters:[\"acc\", \"auc\", \"recall\", \"precision\",\"fmeasure\"]\n",
      "validation_results [0.90000000000000002, 0.89999999999999991, 0.84999999999999998, 0.94444444444444442, 0.89473684210526316]\n",
      "test_results [0.92249999999999999, 0.95731499999999992, 0.87, 0.72199170124481327, 0.78911564625850339]\n",
      "\n",
      "Epoch  2\n",
      "BS 4\n",
      "Parameters:[\"acc\", \"auc\", \"recall\", \"precision\",\"fmeasure\"]\n",
      "validation_results [0.875, 0.89250000000000007, 0.84999999999999998, 0.89473684210526316, 0.87179487179487181]\n",
      "test_results [0.91500000000000004, 0.956175, 0.86499999999999999, 0.69758064516129037, 0.7723214285714286]\n",
      "\n",
      "Epoch  3\n",
      "BS 4\n",
      "Parameters:[\"acc\", \"auc\", \"recall\", \"precision\",\"fmeasure\"]\n",
      "validation_results [0.92500000000000004, 0.90249999999999997, 0.90000000000000002, 0.94736842105263153, 0.92307692307692313]\n",
      "test_results [0.91333333333333333, 0.95785500000000001, 0.875, 0.6889763779527559, 0.77092511013215859]\n",
      "\n",
      "Epoch  4\n",
      "BS 4\n",
      "Parameters:[\"acc\", \"auc\", \"recall\", \"precision\",\"fmeasure\"]\n",
      "validation_results [0.92500000000000004, 0.90500000000000003, 0.90000000000000002, 0.94736842105263153, 0.92307692307692313]\n",
      "test_results [0.90749999999999997, 0.9593799999999999, 0.875, 0.67049808429118773, 0.75921908893709333]\n",
      "\n",
      "Epoch  5\n",
      "BS 4\n",
      "Parameters:[\"acc\", \"auc\", \"recall\", \"precision\",\"fmeasure\"]\n",
      "validation_results [0.92500000000000004, 0.90749999999999997, 0.90000000000000002, 0.94736842105263153, 0.92307692307692313]\n",
      "test_results [0.90916666666666668, 0.95935999999999999, 0.875, 0.67567567567567566, 0.76252723311546844]\n",
      "\n",
      "Epoch  6\n",
      "BS 4\n",
      "Parameters:[\"acc\", \"auc\", \"recall\", \"precision\",\"fmeasure\"]\n",
      "validation_results [0.92500000000000004, 0.90749999999999997, 0.90000000000000002, 0.94736842105263153, 0.92307692307692313]\n",
      "test_results [0.90500000000000003, 0.95933999999999997, 0.875, 0.66287878787878785, 0.75431034482758619]\n",
      "\n",
      "Epoch  7\n",
      "BS 4\n",
      "Parameters:[\"acc\", \"auc\", \"recall\", \"precision\",\"fmeasure\"]\n",
      "validation_results [0.92500000000000004, 0.90749999999999997, 0.90000000000000002, 0.94736842105263153, 0.92307692307692313]\n",
      "test_results [0.90333333333333332, 0.9593799999999999, 0.87, 0.65909090909090906, 0.75]\n",
      "\n",
      "Epoch  8\n",
      "BS 4\n",
      "Parameters:[\"acc\", \"auc\", \"recall\", \"precision\",\"fmeasure\"]\n",
      "validation_results [0.92500000000000004, 0.91000000000000003, 0.90000000000000002, 0.94736842105263153, 0.92307692307692313]\n",
      "test_results [0.90249999999999997, 0.9594100000000001, 0.875, 0.65543071161048694, 0.74946466809421841]\n",
      "\n",
      "Epoch  9\n",
      "BS 4\n",
      "Parameters:[\"acc\", \"auc\", \"recall\", \"precision\",\"fmeasure\"]\n",
      "validation_results [0.92500000000000004, 0.91000000000000003, 0.90000000000000002, 0.94736842105263153, 0.92307692307692313]\n",
      "test_results [0.90333333333333332, 0.95928500000000005, 0.88500000000000001, 0.65555555555555556, 0.7531914893617021]\n",
      "\n",
      "Epoch  10\n",
      "BS 4\n",
      "Parameters:[\"acc\", \"auc\", \"recall\", \"precision\",\"fmeasure\"]\n",
      "validation_results [0.92500000000000004, 0.91000000000000003, 0.90000000000000002, 0.94736842105263153, 0.92307692307692313]\n",
      "test_results [0.90416666666666667, 0.95918999999999988, 0.88500000000000001, 0.65799256505576209, 0.75479744136460558]\n",
      "\n",
      "Epoch  11\n",
      "BS 4\n",
      "Parameters:[\"acc\", \"auc\", \"recall\", \"precision\",\"fmeasure\"]\n",
      "validation_results [0.92500000000000004, 0.91000000000000003, 0.90000000000000002, 0.94736842105263153, 0.92307692307692313]\n",
      "test_results [0.90500000000000003, 0.95903499999999997, 0.89000000000000001, 0.65925925925925921, 0.75744680851063828]\n"
     ]
    },
    {
     "data": {
      "image/png": "[encoded data removed]",
      "text/plain": [
       "<matplotlib.figure.Figure at 0x1d3332a2b00>"
      ]
     },
     "metadata": {},
     "output_type": "display_data"
    }
   ],
   "source": [
    "############## CLASSIFIER II : \n",
    "\n",
    "#dataset_A_hold.shape,targets_A_hold.shape\n",
    "\n",
    "X_train = np.reshape(dataset_A_train_2,[dataset_A_train_2.shape[0],1,dataset_A_train_2.shape[1],dataset_A_train_2.shape[2]]).astype('float32')\n",
    "y_train = np.reshape(targets_A_train_2,[targets_A_train_2.shape[0],1]).astype('float32')\n",
    "\n",
    "#X_val = np.reshape(dataset_A_hold_2,[dataset_A_hold_2.shape[0],1,dataset_A_hold_2.shape[1],dataset_A_hold_2.shape[2]]).astype('float32') \n",
    "#y_val = np.reshape(targets_A_hold_2,[targets_A_hold_2.shape[0],1]).astype('float32')\n",
    "\n",
    "\n",
    "\n",
    "print (X_train.shape)\n",
    "\n",
    "print ('-------------')\n",
    "print (y_train.shape)\n",
    "\n",
    "print('------------------------------')\n",
    "print (X_val.shape)\n",
    "\n",
    "print ('-------------')\n",
    "print (y_val.shape)\n",
    "\n",
    "\n",
    "running_loss_array=[]\n",
    "\n",
    "for epoch in range(Epochs):  # loop over the dataset multiple times\n",
    "    \n",
    "    print (\"\\nEpoch \", epoch)\n",
    "   # print ('range',int(len(X_train)/batch_size-1))\n",
    "    train_loss=train(epoch,X_train,y_train)\n",
    "    prediction2, valid_results=valid(net,epoch,X_val,y_val)\n",
    "    pred2, test_results=valid(net,epoch,X_test,y_test)\n",
    "    print ('Parameters:[\"acc\", \"auc\", \"recall\", \"precision\",\"fmeasure\"]')\n",
    "    print ('validation_results',valid_results)\n",
    "    print ('test_results',test_results)\n",
    "   #plot loss\n",
    "plt.plot(train_loss)\n",
    "plt.ylabel('loss')\n",
    "plt.xlabel('iterations')\n",
    "plt.show()"
   ]
  },
  {
   "cell_type": "code",
   "execution_count": null,
   "metadata": {
    "collapsed": true
   },
   "outputs": [],
   "source": []
  },
  {
   "cell_type": "code",
   "execution_count": 20,
   "metadata": {
    "scrolled": true
   },
   "outputs": [
    {
     "name": "stdout",
     "output_type": "stream",
     "text": [
      "(300, 1, 72, 64)\n",
      "-------------\n",
      "(300, 1)\n",
      "------------------------------\n",
      "(40, 1, 72, 64)\n",
      "-------------\n",
      "(40, 1)\n",
      "\n",
      "Epoch  0\n",
      "BS 4\n",
      "Parameters:[\"acc\", \"auc\", \"recall\", \"precision\",\"fmeasure\"]\n",
      "validation_results [0.92500000000000004, 0.90749999999999997, 0.90000000000000002, 0.94736842105263153, 0.92307692307692313]\n",
      "test_results [0.90916666666666668, 0.9586975000000002, 0.89000000000000001, 0.67169811320754713, 0.7655913978494624]\n",
      "\n",
      "Epoch  1\n",
      "BS 4\n",
      "Parameters:[\"acc\", \"auc\", \"recall\", \"precision\",\"fmeasure\"]\n",
      "validation_results [0.90000000000000002, 0.90249999999999997, 0.84999999999999998, 0.94444444444444442, 0.89473684210526316]\n",
      "test_results [0.92583333333333329, 0.968445, 0.89500000000000002, 0.7246963562753036, 0.80089485458612963]\n",
      "\n",
      "Epoch  2\n",
      "BS 4\n",
      "Parameters:[\"acc\", \"auc\", \"recall\", \"precision\",\"fmeasure\"]\n",
      "validation_results [0.90000000000000002, 0.89749999999999996, 0.84999999999999998, 0.94444444444444442, 0.89473684210526316]\n",
      "test_results [0.92000000000000004, 0.97163999999999995, 0.90000000000000002, 0.703125, 0.78947368421052633]\n",
      "\n",
      "Epoch  3\n",
      "BS 4\n",
      "Parameters:[\"acc\", \"auc\", \"recall\", \"precision\",\"fmeasure\"]\n",
      "validation_results [0.90000000000000002, 0.90249999999999997, 0.84999999999999998, 0.94444444444444442, 0.89473684210526316]\n",
      "test_results [0.91083333333333338, 0.97004000000000001, 0.90000000000000002, 0.6741573033707865, 0.77087794432548185]\n",
      "\n",
      "Epoch  4\n",
      "BS 4\n",
      "Parameters:[\"acc\", \"auc\", \"recall\", \"precision\",\"fmeasure\"]\n",
      "validation_results [0.90000000000000002, 0.89999999999999991, 0.84999999999999998, 0.94444444444444442, 0.89473684210526316]\n",
      "test_results [0.92000000000000004, 0.97031500000000004, 0.89000000000000001, 0.70634920634920639, 0.78761061946902655]\n",
      "\n",
      "Epoch  5\n",
      "BS 4\n",
      "Parameters:[\"acc\", \"auc\", \"recall\", \"precision\",\"fmeasure\"]\n",
      "validation_results [0.90000000000000002, 0.89999999999999991, 0.84999999999999998, 0.94444444444444442, 0.89473684210526316]\n",
      "test_results [0.92083333333333328, 0.96999999999999997, 0.88500000000000001, 0.71084337349397586, 0.7884187082405345]\n",
      "\n",
      "Epoch  6\n",
      "BS 4\n",
      "Parameters:[\"acc\", \"auc\", \"recall\", \"precision\",\"fmeasure\"]\n",
      "validation_results [0.90000000000000002, 0.89500000000000002, 0.84999999999999998, 0.94444444444444442, 0.89473684210526316]\n",
      "test_results [0.92249999999999999, 0.97009000000000001, 0.89000000000000001, 0.71485943775100402, 0.79287305122494423]\n",
      "\n",
      "Epoch  7\n",
      "BS 4\n",
      "Parameters:[\"acc\", \"auc\", \"recall\", \"precision\",\"fmeasure\"]\n",
      "validation_results [0.90000000000000002, 0.89500000000000002, 0.84999999999999998, 0.94444444444444442, 0.89473684210526316]\n",
      "test_results [0.92166666666666663, 0.97016499999999994, 0.89000000000000001, 0.71199999999999997, 0.79111111111111121]\n",
      "\n",
      "Epoch  8\n",
      "BS 4\n",
      "Parameters:[\"acc\", \"auc\", \"recall\", \"precision\",\"fmeasure\"]\n",
      "validation_results [0.90000000000000002, 0.89500000000000002, 0.84999999999999998, 0.94444444444444442, 0.89473684210526316]\n",
      "test_results [0.92000000000000004, 0.97011499999999995, 0.89000000000000001, 0.70634920634920639, 0.78761061946902655]\n",
      "\n",
      "Epoch  9\n",
      "BS 4\n",
      "Parameters:[\"acc\", \"auc\", \"recall\", \"precision\",\"fmeasure\"]\n",
      "validation_results [0.90000000000000002, 0.89750000000000008, 0.84999999999999998, 0.94444444444444442, 0.89473684210526316]\n",
      "test_results [0.92166666666666663, 0.97021000000000002, 0.90000000000000002, 0.70866141732283461, 0.79295154185022021]\n",
      "\n",
      "Epoch  10\n",
      "BS 4\n",
      "Parameters:[\"acc\", \"auc\", \"recall\", \"precision\",\"fmeasure\"]\n",
      "validation_results [0.90000000000000002, 0.89750000000000008, 0.84999999999999998, 0.94444444444444442, 0.89473684210526316]\n",
      "test_results [0.92166666666666663, 0.97021999999999997, 0.90000000000000002, 0.70866141732283461, 0.79295154185022021]\n",
      "\n",
      "Epoch  11\n",
      "BS 4\n",
      "Parameters:[\"acc\", \"auc\", \"recall\", \"precision\",\"fmeasure\"]\n",
      "validation_results [0.90000000000000002, 0.89750000000000008, 0.84999999999999998, 0.94444444444444442, 0.89473684210526316]\n",
      "test_results [0.92083333333333328, 0.97015499999999999, 0.90500000000000003, 0.7042801556420234, 0.79212253829321666]\n"
     ]
    },
    {
     "data": {
      "image/png": "[encoded data removed]",
      "text/plain": [
       "<matplotlib.figure.Figure at 0x1d334b8f240>"
      ]
     },
     "metadata": {},
     "output_type": "display_data"
    }
   ],
   "source": [
    "############## CLASSIFIER III : \n",
    "\n",
    "#dataset_A_hold.shape,targets_A_hold.shape\n",
    "\n",
    "X_train = np.reshape(dataset_A_train_3,[dataset_A_train_3.shape[0],1,dataset_A_train_3.shape[1],dataset_A_train_3.shape[2]]).astype('float32')\n",
    "y_train = np.reshape(targets_A_train_3,[targets_A_train_3.shape[0],1]).astype('float32')\n",
    "\n",
    "#X_val = np.reshape(dataset_A_hold_3,[dataset_A_hold_3.shape[0],1,dataset_A_hold_3.shape[1],dataset_A_hold_3.shape[2]]).astype('float32') \n",
    "#y_val = np.reshape(targets_A_hold_3,[targets_A_hold_3.shape[0],1]).astype('float32')\n",
    "\n",
    "\n",
    "print (X_train.shape)\n",
    "\n",
    "print ('-------------')\n",
    "print (y_train.shape)\n",
    "\n",
    "print('------------------------------')\n",
    "print (X_val.shape)\n",
    "\n",
    "print ('-------------')\n",
    "print (y_val.shape)\n",
    "\n",
    "\n",
    "running_loss_array=[]\n",
    "\n",
    "for epoch in range(Epochs):  # loop over the dataset multiple times\n",
    "    \n",
    "    print (\"\\nEpoch \", epoch)\n",
    "   # print ('range',int(len(X_train)/batch_size-1))\n",
    "    train_loss=train(epoch,X_train,y_train)\n",
    "    prediction3, valid_results=valid(net,epoch,X_val,y_val)\n",
    "    pred3, test_results=valid(net,epoch,X_test,y_test)\n",
    "    print ('Parameters:[\"acc\", \"auc\", \"recall\", \"precision\",\"fmeasure\"]')\n",
    "    print ('validation_results',valid_results)\n",
    "    print ('test_results',test_results)\n",
    "    \n",
    "\n",
    "#plot loss\n",
    "plt.plot(train_loss)\n",
    "plt.ylabel('loss')\n",
    "plt.xlabel('iterations')\n",
    "plt.show()"
   ]
  },
  {
   "cell_type": "code",
   "execution_count": null,
   "metadata": {
    "collapsed": true
   },
   "outputs": [],
   "source": []
  },
  {
   "cell_type": "code",
   "execution_count": 21,
   "metadata": {
    "scrolled": true
   },
   "outputs": [
    {
     "name": "stdout",
     "output_type": "stream",
     "text": [
      "(300, 1, 72, 64)\n",
      "-------------\n",
      "(300, 1)\n",
      "------------------------------\n",
      "(40, 1, 72, 64)\n",
      "-------------\n",
      "(40, 1)\n",
      "\n",
      "Epoch  0\n",
      "BS 4\n",
      "Parameters:[\"acc\", \"auc\", \"recall\", \"precision\",\"fmeasure\"]\n",
      "validation_results [0.875, 0.91499999999999992, 0.75, 1.0, 0.8571428571428571]\n",
      "test_results [0.94166666666666665, 0.96432000000000007, 0.82999999999999996, 0.82178217821782173, 0.82587064676616917]\n",
      "\n",
      "Epoch  1\n",
      "BS 4\n",
      "Parameters:[\"acc\", \"auc\", \"recall\", \"precision\",\"fmeasure\"]\n",
      "validation_results [0.875, 0.92500000000000004, 0.80000000000000004, 0.94117647058823528, 0.8648648648648648]\n",
      "test_results [0.92833333333333334, 0.96904000000000001, 0.91500000000000004, 0.72619047619047616, 0.80973451327433621]\n",
      "\n",
      "Epoch  2\n",
      "BS 4\n",
      "Parameters:[\"acc\", \"auc\", \"recall\", \"precision\",\"fmeasure\"]\n",
      "validation_results [0.90000000000000002, 0.91499999999999992, 0.80000000000000004, 1.0, 0.88888888888888895]\n",
      "test_results [0.9291666666666667, 0.96834500000000001, 0.90500000000000003, 0.73279352226720651, 0.8098434004474272]\n",
      "\n",
      "Epoch  3\n",
      "BS 4\n",
      "Parameters:[\"acc\", \"auc\", \"recall\", \"precision\",\"fmeasure\"]\n",
      "validation_results [0.875, 0.91000000000000003, 0.80000000000000004, 0.94117647058823528, 0.8648648648648648]\n",
      "test_results [0.92666666666666664, 0.97007500000000002, 0.90000000000000002, 0.72580645161290325, 0.8035714285714286]\n",
      "\n",
      "Epoch  4\n",
      "BS 4\n",
      "Parameters:[\"acc\", \"auc\", \"recall\", \"precision\",\"fmeasure\"]\n",
      "validation_results [0.875, 0.91250000000000009, 0.80000000000000004, 0.94117647058823528, 0.8648648648648648]\n",
      "test_results [0.93000000000000005, 0.97042499999999998, 0.91000000000000003, 0.7338709677419355, 0.8125]\n",
      "\n",
      "Epoch  5\n",
      "BS 4\n",
      "Parameters:[\"acc\", \"auc\", \"recall\", \"precision\",\"fmeasure\"]\n",
      "validation_results [0.875, 0.91250000000000009, 0.80000000000000004, 0.94117647058823528, 0.8648648648648648]\n",
      "test_results [0.92833333333333334, 0.9704799999999999, 0.90000000000000002, 0.73170731707317072, 0.80717488789237668]\n",
      "\n",
      "Epoch  6\n",
      "BS 4\n",
      "Parameters:[\"acc\", \"auc\", \"recall\", \"precision\",\"fmeasure\"]\n",
      "validation_results [0.875, 0.91250000000000009, 0.80000000000000004, 0.94117647058823528, 0.8648648648648648]\n",
      "test_results [0.93083333333333329, 0.97046500000000002, 0.91000000000000003, 0.73684210526315785, 0.81431767337807603]\n",
      "\n",
      "Epoch  7\n",
      "BS 4\n",
      "Parameters:[\"acc\", \"auc\", \"recall\", \"precision\",\"fmeasure\"]\n",
      "validation_results [0.875, 0.91250000000000009, 0.80000000000000004, 0.94117647058823528, 0.8648648648648648]\n",
      "test_results [0.9291666666666667, 0.97031499999999993, 0.91000000000000003, 0.73092369477911645, 0.81069042316258355]\n",
      "\n",
      "Epoch  8\n",
      "BS 4\n",
      "Parameters:[\"acc\", \"auc\", \"recall\", \"precision\",\"fmeasure\"]\n",
      "validation_results [0.875, 0.91249999999999998, 0.80000000000000004, 0.94117647058823528, 0.8648648648648648]\n",
      "test_results [0.92833333333333334, 0.97028999999999999, 0.91000000000000003, 0.72799999999999998, 0.80888888888888888]\n",
      "\n",
      "Epoch  9\n",
      "BS 4\n",
      "Parameters:[\"acc\", \"auc\", \"recall\", \"precision\",\"fmeasure\"]\n",
      "validation_results [0.875, 0.91249999999999998, 0.80000000000000004, 0.94117647058823528, 0.8648648648648648]\n",
      "test_results [0.92833333333333334, 0.97019999999999995, 0.91000000000000003, 0.72799999999999998, 0.80888888888888888]\n",
      "\n",
      "Epoch  10\n",
      "BS 4\n",
      "Parameters:[\"acc\", \"auc\", \"recall\", \"precision\",\"fmeasure\"]\n",
      "validation_results [0.875, 0.91249999999999998, 0.80000000000000004, 0.94117647058823528, 0.8648648648648648]\n",
      "test_results [0.92666666666666664, 0.97010999999999992, 0.91000000000000003, 0.72222222222222221, 0.80530973451327437]\n",
      "\n",
      "Epoch  11\n",
      "BS 4\n",
      "Parameters:[\"acc\", \"auc\", \"recall\", \"precision\",\"fmeasure\"]\n",
      "validation_results [0.875, 0.91249999999999998, 0.80000000000000004, 0.94117647058823528, 0.8648648648648648]\n",
      "test_results [0.92749999999999999, 0.97014500000000004, 0.91500000000000004, 0.72332015810276684, 0.80794701986754969]\n"
     ]
    },
    {
     "data": {
      "image/png": "[encoded data removed]",
      "text/plain": [
       "<matplotlib.figure.Figure at 0x1d3280d7828>"
      ]
     },
     "metadata": {},
     "output_type": "display_data"
    }
   ],
   "source": [
    "############## CLASSIFIER IV : \n",
    "\n",
    "#dataset_A_hold.shape,targets_A_hold.shape\n",
    "\n",
    "X_train = np.reshape(dataset_A_train_4,[dataset_A_train_4.shape[0],1,dataset_A_train_4.shape[1],dataset_A_train_4.shape[2]]).astype('float32')\n",
    "y_train = np.reshape(targets_A_train_4,[targets_A_train_4.shape[0],1]).astype('float32')\n",
    "\n",
    "#X_val = np.reshape(dataset_A_hold_4,[dataset_A_hold_4.shape[0],1,dataset_A_hold_4.shape[1],dataset_A_hold_4.shape[2]]).astype('float32') \n",
    "#y_val = np.reshape(targets_A_hold_4,[targets_A_hold_4.shape[0],1]).astype('float32')\n",
    "\n",
    "\n",
    "\n",
    "print (X_train.shape)\n",
    "\n",
    "print ('-------------')\n",
    "print (y_train.shape)\n",
    "\n",
    "print('------------------------------')\n",
    "print (X_val.shape)\n",
    "\n",
    "print ('-------------')\n",
    "print (y_val.shape)\n",
    "\n",
    "\n",
    "running_loss_array=[]\n",
    "\n",
    "for epoch in range(Epochs):  # loop over the dataset multiple times\n",
    "    \n",
    "    print (\"\\nEpoch \", epoch)\n",
    "   # print ('range',int(len(X_train)/batch_size-1))\n",
    "    train_loss=train(epoch,X_train,y_train)\n",
    "    prediction4, valid_results=valid(net,epoch,X_val,y_val)\n",
    "    pred4, test_results=valid(net,epoch,X_test,y_test)\n",
    "    print ('Parameters:[\"acc\", \"auc\", \"recall\", \"precision\",\"fmeasure\"]')\n",
    "    print ('validation_results',valid_results)\n",
    "    print ('test_results',test_results)\n",
    "  #plot loss\n",
    "plt.plot(train_loss)\n",
    "plt.ylabel('loss')\n",
    "plt.xlabel('iterations')\n",
    "plt.show()"
   ]
  },
  {
   "cell_type": "code",
   "execution_count": null,
   "metadata": {
    "collapsed": true
   },
   "outputs": [],
   "source": []
  },
  {
   "cell_type": "code",
   "execution_count": 22,
   "metadata": {
    "scrolled": true
   },
   "outputs": [
    {
     "name": "stdout",
     "output_type": "stream",
     "text": [
      "(298, 1, 72, 64)\n",
      "-------------\n",
      "(298, 1)\n",
      "------------------------------\n",
      "(40, 1, 72, 64)\n",
      "-------------\n",
      "(40, 1)\n",
      "\n",
      "Epoch  0\n",
      "BS 4\n",
      "Parameters:[\"acc\", \"auc\", \"recall\", \"precision\",\"fmeasure\"]\n",
      "validation_results [0.875, 0.94499999999999995, 0.75, 1.0, 0.8571428571428571]\n",
      "test_results [0.94666666666666666, 0.96582999999999997, 0.78500000000000003, 0.8820224719101124, 0.83068783068783059]\n",
      "\n",
      "Epoch  1\n",
      "BS 4\n",
      "Parameters:[\"acc\", \"auc\", \"recall\", \"precision\",\"fmeasure\"]\n",
      "validation_results [0.92500000000000004, 0.97750000000000004, 0.84999999999999998, 1.0, 0.91891891891891886]\n",
      "test_results [0.94916666666666671, 0.971665, 0.88500000000000001, 0.82325581395348835, 0.85301204819277099]\n",
      "\n",
      "Epoch  2\n",
      "BS 4\n",
      "Parameters:[\"acc\", \"auc\", \"recall\", \"precision\",\"fmeasure\"]\n",
      "validation_results [0.90000000000000002, 0.96499999999999997, 0.80000000000000004, 1.0, 0.88888888888888895]\n",
      "test_results [0.94666666666666666, 0.97000000000000008, 0.88500000000000001, 0.81192660550458717, 0.84688995215310992]\n",
      "\n",
      "Epoch  3\n",
      "BS 4\n",
      "Parameters:[\"acc\", \"auc\", \"recall\", \"precision\",\"fmeasure\"]\n",
      "validation_results [0.92500000000000004, 0.96999999999999997, 0.84999999999999998, 1.0, 0.91891891891891886]\n",
      "test_results [0.9458333333333333, 0.97123000000000004, 0.89500000000000002, 0.80269058295964124, 0.84633569739952719]\n",
      "\n",
      "Epoch  4\n",
      "BS 4\n",
      "Parameters:[\"acc\", \"auc\", \"recall\", \"precision\",\"fmeasure\"]\n",
      "validation_results [0.92500000000000004, 0.97250000000000003, 0.84999999999999998, 1.0, 0.91891891891891886]\n",
      "test_results [0.94499999999999995, 0.97101000000000004, 0.89000000000000001, 0.80180180180180183, 0.84360189573459721]\n",
      "\n",
      "Epoch  5\n",
      "BS 4\n",
      "Parameters:[\"acc\", \"auc\", \"recall\", \"precision\",\"fmeasure\"]\n",
      "validation_results [0.92500000000000004, 0.97250000000000003, 0.84999999999999998, 1.0, 0.91891891891891886]\n",
      "test_results [0.94666666666666666, 0.97080999999999995, 0.89000000000000001, 0.80909090909090908, 0.84761904761904761]\n",
      "\n",
      "Epoch  6\n",
      "BS 4\n",
      "Parameters:[\"acc\", \"auc\", \"recall\", \"precision\",\"fmeasure\"]\n",
      "validation_results [0.92500000000000004, 0.97250000000000003, 0.84999999999999998, 1.0, 0.91891891891891886]\n",
      "test_results [0.9458333333333333, 0.97073999999999994, 0.89000000000000001, 0.80542986425339369, 0.84560570071258911]\n",
      "\n",
      "Epoch  7\n",
      "BS 4\n",
      "Parameters:[\"acc\", \"auc\", \"recall\", \"precision\",\"fmeasure\"]\n",
      "validation_results [0.92500000000000004, 0.97250000000000003, 0.84999999999999998, 1.0, 0.91891891891891886]\n",
      "test_results [0.9458333333333333, 0.97084499999999996, 0.89000000000000001, 0.80542986425339369, 0.84560570071258911]\n",
      "\n",
      "Epoch  8\n",
      "BS 4\n",
      "Parameters:[\"acc\", \"auc\", \"recall\", \"precision\",\"fmeasure\"]\n",
      "validation_results [0.92500000000000004, 0.97250000000000003, 0.84999999999999998, 1.0, 0.91891891891891886]\n",
      "test_results [0.94333333333333336, 0.97072500000000006, 0.89000000000000001, 0.7946428571428571, 0.839622641509434]\n",
      "\n",
      "Epoch  9\n",
      "BS 4\n",
      "Parameters:[\"acc\", \"auc\", \"recall\", \"precision\",\"fmeasure\"]\n",
      "validation_results [0.92500000000000004, 0.97250000000000003, 0.84999999999999998, 1.0, 0.91891891891891886]\n",
      "test_results [0.94333333333333336, 0.97062999999999988, 0.89000000000000001, 0.7946428571428571, 0.839622641509434]\n",
      "\n",
      "Epoch  10\n",
      "BS 4\n",
      "Parameters:[\"acc\", \"auc\", \"recall\", \"precision\",\"fmeasure\"]\n",
      "validation_results [0.92500000000000004, 0.97250000000000003, 0.84999999999999998, 1.0, 0.91891891891891886]\n",
      "test_results [0.9408333333333333, 0.97060999999999997, 0.88500000000000001, 0.78666666666666663, 0.83294117647058818]\n",
      "\n",
      "Epoch  11\n",
      "BS 4\n",
      "Parameters:[\"acc\", \"auc\", \"recall\", \"precision\",\"fmeasure\"]\n",
      "validation_results [0.92500000000000004, 0.97250000000000003, 0.84999999999999998, 1.0, 0.91891891891891886]\n",
      "test_results [0.93999999999999995, 0.97060999999999997, 0.88500000000000001, 0.7831858407079646, 0.83098591549295775]\n"
     ]
    },
    {
     "data": {
      "image/png": "[encoded data removed]",
      "text/plain": [
       "<matplotlib.figure.Figure at 0x1d3005b2860>"
      ]
     },
     "metadata": {},
     "output_type": "display_data"
    }
   ],
   "source": [
    "############## CLASSIFIER V : \n",
    "\n",
    "#dataset_A_hold.shape,targets_A_hold.shape\n",
    "\n",
    "X_train = np.reshape(dataset_A_train_5,[dataset_A_train_5.shape[0],1,dataset_A_train_5.shape[1],dataset_A_train_5.shape[2]]).astype('float32')\n",
    "y_train = np.reshape(targets_A_train_5,[targets_A_train_5.shape[0],1]).astype('float32')\n",
    "\n",
    "#X_val = np.reshape(dataset_A_hold_5,[dataset_A_hold_5.shape[0],1,dataset_A_hold_5.shape[1],dataset_A_hold_5.shape[2]]).astype('float32') \n",
    "#y_val = np.reshape(targets_A_hold_5,[targets_A_hold_5.shape[0],1]).astype('float32')\n",
    "\n",
    "\n",
    "\n",
    "\n",
    "print (X_train.shape)\n",
    "\n",
    "print ('-------------')\n",
    "print (y_train.shape)\n",
    "\n",
    "print('------------------------------')\n",
    "print (X_val.shape)\n",
    "\n",
    "print ('-------------')\n",
    "print (y_val.shape)\n",
    "\n",
    "\n",
    "running_loss_array=[]\n",
    "\n",
    "for epoch in range(Epochs):  # loop over the dataset multiple times\n",
    "    \n",
    "    print (\"\\nEpoch \", epoch)\n",
    "   # print ('range',int(len(X_train)/batch_size-1))\n",
    "    train_loss=train(epoch,X_train,y_train)\n",
    "    prediction5, valid_results=valid(net,epoch,X_val,y_val)\n",
    "    pred5, test_results=valid(net,epoch,X_test,y_test)\n",
    "    print ('Parameters:[\"acc\", \"auc\", \"recall\", \"precision\",\"fmeasure\"]')\n",
    "    print ('validation_results',valid_results)\n",
    "    print ('test_results',test_results)\n",
    "  #plot loss\n",
    "\n",
    "plt.plot(train_loss)\n",
    "plt.ylabel('loss')\n",
    "plt.xlabel('iterations')\n",
    "plt.show()"
   ]
  },
  {
   "cell_type": "code",
   "execution_count": 23,
   "metadata": {
    "scrolled": true
   },
   "outputs": [
    {
     "data": {
      "text/plain": [
       "(40, 1)"
      ]
     },
     "execution_count": 23,
     "metadata": {},
     "output_type": "execute_result"
    }
   ],
   "source": [
    "prediction1.shape"
   ]
  },
  {
   "cell_type": "code",
   "execution_count": 24,
   "metadata": {
    "scrolled": true
   },
   "outputs": [
    {
     "data": {
      "text/plain": [
       "(40, 1)"
      ]
     },
     "execution_count": 24,
     "metadata": {},
     "output_type": "execute_result"
    }
   ],
   "source": [
    "prediction2.shape"
   ]
  },
  {
   "cell_type": "code",
   "execution_count": 25,
   "metadata": {
    "scrolled": true
   },
   "outputs": [
    {
     "data": {
      "text/plain": [
       "(40, 1)"
      ]
     },
     "execution_count": 25,
     "metadata": {},
     "output_type": "execute_result"
    }
   ],
   "source": [
    "prediction3.shape"
   ]
  },
  {
   "cell_type": "code",
   "execution_count": 26,
   "metadata": {
    "scrolled": false
   },
   "outputs": [
    {
     "data": {
      "text/plain": [
       "(40, 1)"
      ]
     },
     "execution_count": 26,
     "metadata": {},
     "output_type": "execute_result"
    }
   ],
   "source": [
    "prediction4.shape"
   ]
  },
  {
   "cell_type": "code",
   "execution_count": 27,
   "metadata": {
    "scrolled": true
   },
   "outputs": [
    {
     "data": {
      "text/plain": [
       "(40, 1)"
      ]
     },
     "execution_count": 27,
     "metadata": {},
     "output_type": "execute_result"
    }
   ],
   "source": [
    "prediction5.shape"
   ]
  },
  {
   "cell_type": "code",
   "execution_count": 28,
   "metadata": {
    "scrolled": true
   },
   "outputs": [
    {
     "name": "stdout",
     "output_type": "stream",
     "text": [
      "[[  5.73104620e-01]\n",
      " [  9.99208450e-01]\n",
      " [  1.92155433e-03]\n",
      " [  9.96126533e-01]\n",
      " [  3.85944098e-02]\n",
      " [  9.18976426e-01]\n",
      " [  6.62312435e-04]\n",
      " [  9.86917377e-01]\n",
      " [  9.93057251e-01]\n",
      " [  1.14546262e-01]\n",
      " [  9.98903155e-01]\n",
      " [  3.16505018e-03]\n",
      " [  9.98555064e-01]\n",
      " [  9.35176194e-01]\n",
      " [  4.93358914e-03]\n",
      " [  9.99271214e-01]\n",
      " [  1.68735114e-05]\n",
      " [  1.84295163e-01]\n",
      " [  2.68738836e-01]\n",
      " [  1.21297817e-04]\n",
      " [  4.86797541e-02]\n",
      " [  3.49020283e-03]\n",
      " [  4.70567852e-01]\n",
      " [  4.79664028e-01]\n",
      " [  9.98677552e-01]\n",
      " [  1.03281243e-04]\n",
      " [  9.96508241e-01]\n",
      " [  6.67678600e-04]\n",
      " [  9.98219192e-01]\n",
      " [  8.46356273e-01]\n",
      " [  5.71035087e-01]\n",
      " [  1.10586407e-02]\n",
      " [  9.97040749e-01]\n",
      " [  2.07647920e-01]\n",
      " [  1.19682271e-02]\n",
      " [  9.89734530e-01]\n",
      " [  4.49458230e-03]\n",
      " [  8.19120258e-02]\n",
      " [  2.20824592e-03]\n",
      " [  9.98312950e-01]]\n"
     ]
    }
   ],
   "source": [
    "avg_prediction =  (prediction1 + prediction2 + prediction3 + prediction4 + prediction5[0:40,:]) / 5\n",
    "print (avg_prediction)"
   ]
  },
  {
   "cell_type": "code",
   "execution_count": 29,
   "metadata": {},
   "outputs": [
    {
     "name": "stdout",
     "output_type": "stream",
     "text": [
      "Ensemble Result [0.94999999999999996, 0.94249999999999989, 0.90000000000000002, 1.0, 0.94736842105263164]\n"
     ]
    }
   ],
   "source": [
    "results=[]\n",
    "Y=y_val\n",
    "    \n",
    "for param in [\"acc\", \"auc\", \"recall\", \"precision\",\"fmeasure\"]:\n",
    "    if param == 'acc':\n",
    "        results.append(accuracy_score(Y, np.round(avg_prediction)))\n",
    "    if param == \"auc\":\n",
    "        results.append(roc_auc_score(Y, avg_prediction))\n",
    "    if param == \"recall\":\n",
    "        results.append(recall_score(Y, np.round(avg_prediction)))\n",
    "    if param == \"precision\":\n",
    "        results.append(precision_score(Y, np.round(avg_prediction)))\n",
    "    if param == \"fmeasure\":\n",
    "        precision = precision_score(Y, np.round(avg_prediction))\n",
    "        recall = recall_score(Y, np.round(avg_prediction))\n",
    "        results.append(2*precision*recall/ (precision+recall))\n",
    "print ('Ensemble Result',results)"
   ]
  },
  {
   "cell_type": "code",
   "execution_count": 30,
   "metadata": {},
   "outputs": [
    {
     "name": "stdout",
     "output_type": "stream",
     "text": [
      "(1200, 1)\n"
     ]
    }
   ],
   "source": [
    "avg_pred=  (pred1 + pred2 + pred3 + pred4 + pred5) / 5\n",
    "print (avg_pred.shape)"
   ]
  },
  {
   "cell_type": "code",
   "execution_count": 31,
   "metadata": {},
   "outputs": [
    {
     "name": "stdout",
     "output_type": "stream",
     "text": [
      "(1200, 1)\n",
      "Ensemble Result [0.92500000000000004, 0.96771000000000007, 0.91500000000000004, 0.71484375, 0.80263157894736836]\n"
     ]
    }
   ],
   "source": [
    "results_test=[]\n",
    "Y=y_test\n",
    "print (Y.shape)\n",
    "    \n",
    "for param in [\"acc\", \"auc\", \"recall\", \"precision\",\"fmeasure\"]:\n",
    "    if param == 'acc':\n",
    "        results_test.append(accuracy_score(Y, np.round(avg_pred)))\n",
    "    if param == \"auc\":\n",
    "        results_test.append(roc_auc_score(Y, avg_pred))\n",
    "    if param == \"recall\":\n",
    "        results_test.append(recall_score(Y, np.round(avg_pred)))\n",
    "    if param == \"precision\":\n",
    "        results_test.append(precision_score(Y, np.round(avg_pred)))\n",
    "    if param == \"fmeasure\":\n",
    "        precision = precision_score(Y, np.round(avg_pred))\n",
    "        recall = recall_score(Y, np.round(avg_pred))\n",
    "        results_test.append(2*precision*recall/ (precision+recall))\n",
    "print ('Ensemble Result',results_test)"
   ]
  },
  {
   "cell_type": "code",
   "execution_count": null,
   "metadata": {
    "collapsed": true
   },
   "outputs": [],
   "source": []
  },
  {
   "cell_type": "code",
   "execution_count": null,
   "metadata": {
    "collapsed": true
   },
   "outputs": [],
   "source": []
  },
  {
   "cell_type": "code",
   "execution_count": null,
   "metadata": {
    "collapsed": true
   },
   "outputs": [],
   "source": []
  }
 ],
 "metadata": {
  "kernelspec": {
   "display_name": "Python 3",
   "language": "python",
   "name": "python3"
  },
  "language_info": {
   "codemirror_mode": {
    "name": "ipython",
    "version": 3
   },
   "file_extension": ".py",
   "mimetype": "text/x-python",
   "name": "python",
   "nbconvert_exporter": "python",
   "pygments_lexer": "ipython3",
   "version": "3.6.3"
  }
 },
 "nbformat": 4,
 "nbformat_minor": 2
}
